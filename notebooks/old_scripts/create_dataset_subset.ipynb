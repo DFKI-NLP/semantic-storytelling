{
 "cells": [
  {
   "cell_type": "markdown",
   "id": "changing-boring",
   "metadata": {},
   "source": [
    "# Install"
   ]
  },
  {
   "cell_type": "markdown",
   "id": "august-trauma",
   "metadata": {},
   "source": [
    "## Install Package to write CAS XMI files\n",
    "See https://github.com/dkpro/dkpro-cassis"
   ]
  },
  {
   "cell_type": "code",
   "execution_count": 1,
   "id": "recognized-plymouth",
   "metadata": {
    "scrolled": true
   },
   "outputs": [
    {
     "name": "stdout",
     "output_type": "stream",
     "text": [
      "Requirement already satisfied: numpy in /data/experiments/raring/miniconda2/envs/semantic_relation/lib/python3.9/site-packages (1.20.3)\n",
      "Requirement already satisfied: dkpro-cassis in /data/experiments/raring/miniconda2/envs/semantic_relation/lib/python3.9/site-packages (0.5.2)\n",
      "Requirement already satisfied: scikit-learn==0.23.1 in /data/experiments/raring/miniconda2/envs/semantic_relation/lib/python3.9/site-packages (0.23.1)\n",
      "Requirement already satisfied: datasets in /data/experiments/raring/miniconda2/envs/semantic_relation/lib/python3.9/site-packages (1.7.0)\n",
      "Requirement already satisfied: transformers[torch] in /data/experiments/raring/miniconda2/envs/semantic_relation/lib/python3.9/site-packages (4.6.1)\n",
      "Requirement already satisfied: ipywidgets in /data/experiments/raring/miniconda2/envs/semantic_relation/lib/python3.9/site-packages (7.6.3)\n",
      "Requirement already satisfied: matplotlib in /data/experiments/raring/miniconda2/envs/semantic_relation/lib/python3.9/site-packages (3.4.2)\n",
      "Requirement already satisfied: joblib>=0.11 in /data/experiments/raring/miniconda2/envs/semantic_relation/lib/python3.9/site-packages (from scikit-learn==0.23.1) (1.0.1)\n",
      "Requirement already satisfied: threadpoolctl>=2.0.0 in /data/experiments/raring/miniconda2/envs/semantic_relation/lib/python3.9/site-packages (from scikit-learn==0.23.1) (2.1.0)\n",
      "Requirement already satisfied: scipy>=0.19.1 in /data/experiments/raring/miniconda2/envs/semantic_relation/lib/python3.9/site-packages (from scikit-learn==0.23.1) (1.6.3)\n",
      "Requirement already satisfied: deprecation>=2.0.7 in /data/experiments/raring/miniconda2/envs/semantic_relation/lib/python3.9/site-packages (from dkpro-cassis) (2.1.0)\n",
      "Requirement already satisfied: attrs>=19.3.0 in /data/experiments/raring/miniconda2/envs/semantic_relation/lib/python3.9/site-packages (from dkpro-cassis) (21.2.0)\n",
      "Requirement already satisfied: lxml>=4.5.0 in /data/experiments/raring/miniconda2/envs/semantic_relation/lib/python3.9/site-packages (from dkpro-cassis) (4.6.3)\n",
      "Requirement already satisfied: importlib-resources>=1.0.2 in /data/experiments/raring/miniconda2/envs/semantic_relation/lib/python3.9/site-packages (from dkpro-cassis) (5.1.4)\n",
      "Requirement already satisfied: sortedcontainers>=2.1.0 in /data/experiments/raring/miniconda2/envs/semantic_relation/lib/python3.9/site-packages (from dkpro-cassis) (2.4.0)\n",
      "Requirement already satisfied: more-itertools>=8.2.0 in /data/experiments/raring/miniconda2/envs/semantic_relation/lib/python3.9/site-packages (from dkpro-cassis) (8.8.0)\n",
      "Requirement already satisfied: toposort>=1.5 in /data/experiments/raring/miniconda2/envs/semantic_relation/lib/python3.9/site-packages (from dkpro-cassis) (1.6)\n",
      "Requirement already satisfied: packaging in /data/experiments/raring/miniconda2/envs/semantic_relation/lib/python3.9/site-packages (from deprecation>=2.0.7->dkpro-cassis) (20.9)\n",
      "Requirement already satisfied: zipp>=3.1.0 in /data/experiments/raring/miniconda2/envs/semantic_relation/lib/python3.9/site-packages (from importlib-resources>=1.0.2->dkpro-cassis) (3.4.1)\n",
      "Requirement already satisfied: huggingface-hub<0.1.0 in /data/experiments/raring/miniconda2/envs/semantic_relation/lib/python3.9/site-packages (from datasets) (0.0.8)\n",
      "Requirement already satisfied: pandas in /data/experiments/raring/miniconda2/envs/semantic_relation/lib/python3.9/site-packages (from datasets) (1.2.4)\n",
      "Requirement already satisfied: pyarrow<4.0.0,>=1.0.0 in /data/experiments/raring/miniconda2/envs/semantic_relation/lib/python3.9/site-packages (from datasets) (3.0.0)\n",
      "Requirement already satisfied: multiprocess in /data/experiments/raring/miniconda2/envs/semantic_relation/lib/python3.9/site-packages (from datasets) (0.70.11.1)\n",
      "Requirement already satisfied: dill in /data/experiments/raring/miniconda2/envs/semantic_relation/lib/python3.9/site-packages (from datasets) (0.3.3)\n",
      "Requirement already satisfied: xxhash in /data/experiments/raring/miniconda2/envs/semantic_relation/lib/python3.9/site-packages (from datasets) (2.0.2)\n",
      "Requirement already satisfied: tqdm<4.50.0,>=4.27 in /data/experiments/raring/miniconda2/envs/semantic_relation/lib/python3.9/site-packages (from datasets) (4.49.0)\n",
      "Requirement already satisfied: fsspec in /data/experiments/raring/miniconda2/envs/semantic_relation/lib/python3.9/site-packages (from datasets) (2021.5.0)\n",
      "Requirement already satisfied: requests>=2.19.0 in /data/experiments/raring/miniconda2/envs/semantic_relation/lib/python3.9/site-packages (from datasets) (2.25.1)\n",
      "Requirement already satisfied: filelock in /data/experiments/raring/miniconda2/envs/semantic_relation/lib/python3.9/site-packages (from huggingface-hub<0.1.0->datasets) (3.0.12)\n",
      "Requirement already satisfied: chardet<5,>=3.0.2 in /data/experiments/raring/miniconda2/envs/semantic_relation/lib/python3.9/site-packages (from requests>=2.19.0->datasets) (4.0.0)\n",
      "Requirement already satisfied: certifi>=2017.4.17 in /data/experiments/raring/miniconda2/envs/semantic_relation/lib/python3.9/site-packages (from requests>=2.19.0->datasets) (2020.12.5)\n",
      "Requirement already satisfied: urllib3<1.27,>=1.21.1 in /data/experiments/raring/miniconda2/envs/semantic_relation/lib/python3.9/site-packages (from requests>=2.19.0->datasets) (1.26.5)\n",
      "Requirement already satisfied: idna<3,>=2.5 in /data/experiments/raring/miniconda2/envs/semantic_relation/lib/python3.9/site-packages (from requests>=2.19.0->datasets) (2.10)\n",
      "Requirement already satisfied: jupyterlab-widgets>=1.0.0 in /data/experiments/raring/miniconda2/envs/semantic_relation/lib/python3.9/site-packages (from ipywidgets) (1.0.0)\n",
      "Requirement already satisfied: widgetsnbextension~=3.5.0 in /data/experiments/raring/miniconda2/envs/semantic_relation/lib/python3.9/site-packages (from ipywidgets) (3.5.1)\n",
      "Requirement already satisfied: ipython>=4.0.0 in /data/experiments/raring/miniconda2/envs/semantic_relation/lib/python3.9/site-packages (from ipywidgets) (7.23.1)\n",
      "Requirement already satisfied: traitlets>=4.3.1 in /data/experiments/raring/miniconda2/envs/semantic_relation/lib/python3.9/site-packages (from ipywidgets) (5.0.5)\n",
      "Requirement already satisfied: ipykernel>=4.5.1 in /data/experiments/raring/miniconda2/envs/semantic_relation/lib/python3.9/site-packages (from ipywidgets) (5.5.5)\n",
      "Requirement already satisfied: nbformat>=4.2.0 in /data/experiments/raring/miniconda2/envs/semantic_relation/lib/python3.9/site-packages (from ipywidgets) (5.1.3)\n",
      "Requirement already satisfied: tornado>=4.2 in /data/experiments/raring/miniconda2/envs/semantic_relation/lib/python3.9/site-packages (from ipykernel>=4.5.1->ipywidgets) (6.1)\n",
      "Requirement already satisfied: jupyter-client in /data/experiments/raring/miniconda2/envs/semantic_relation/lib/python3.9/site-packages (from ipykernel>=4.5.1->ipywidgets) (6.1.12)\n",
      "Requirement already satisfied: matplotlib-inline in /data/experiments/raring/miniconda2/envs/semantic_relation/lib/python3.9/site-packages (from ipython>=4.0.0->ipywidgets) (0.1.2)\n",
      "Requirement already satisfied: pickleshare in /data/experiments/raring/miniconda2/envs/semantic_relation/lib/python3.9/site-packages (from ipython>=4.0.0->ipywidgets) (0.7.5)\n",
      "Requirement already satisfied: setuptools>=18.5 in /data/experiments/raring/miniconda2/envs/semantic_relation/lib/python3.9/site-packages (from ipython>=4.0.0->ipywidgets) (52.0.0.post20210125)\n",
      "Requirement already satisfied: decorator in /data/experiments/raring/miniconda2/envs/semantic_relation/lib/python3.9/site-packages (from ipython>=4.0.0->ipywidgets) (5.0.9)\n",
      "Requirement already satisfied: pexpect>4.3 in /data/experiments/raring/miniconda2/envs/semantic_relation/lib/python3.9/site-packages (from ipython>=4.0.0->ipywidgets) (4.8.0)\n",
      "Requirement already satisfied: prompt-toolkit!=3.0.0,!=3.0.1,<3.1.0,>=2.0.0 in /data/experiments/raring/miniconda2/envs/semantic_relation/lib/python3.9/site-packages (from ipython>=4.0.0->ipywidgets) (3.0.18)\n",
      "Requirement already satisfied: pygments in /data/experiments/raring/miniconda2/envs/semantic_relation/lib/python3.9/site-packages (from ipython>=4.0.0->ipywidgets) (2.9.0)\n",
      "Requirement already satisfied: jedi>=0.16 in /data/experiments/raring/miniconda2/envs/semantic_relation/lib/python3.9/site-packages (from ipython>=4.0.0->ipywidgets) (0.18.0)\n",
      "Requirement already satisfied: backcall in /data/experiments/raring/miniconda2/envs/semantic_relation/lib/python3.9/site-packages (from ipython>=4.0.0->ipywidgets) (0.2.0)\n",
      "Requirement already satisfied: parso<0.9.0,>=0.8.0 in /data/experiments/raring/miniconda2/envs/semantic_relation/lib/python3.9/site-packages (from jedi>=0.16->ipython>=4.0.0->ipywidgets) (0.8.2)\n"
     ]
    },
    {
     "name": "stdout",
     "output_type": "stream",
     "text": [
      "Requirement already satisfied: ipython-genutils in /data/experiments/raring/miniconda2/envs/semantic_relation/lib/python3.9/site-packages (from nbformat>=4.2.0->ipywidgets) (0.2.0)\n",
      "Requirement already satisfied: jsonschema!=2.5.0,>=2.4 in /data/experiments/raring/miniconda2/envs/semantic_relation/lib/python3.9/site-packages (from nbformat>=4.2.0->ipywidgets) (3.2.0)\n",
      "Requirement already satisfied: jupyter-core in /data/experiments/raring/miniconda2/envs/semantic_relation/lib/python3.9/site-packages (from nbformat>=4.2.0->ipywidgets) (4.7.1)\n",
      "Requirement already satisfied: six>=1.11.0 in /data/experiments/raring/miniconda2/envs/semantic_relation/lib/python3.9/site-packages (from jsonschema!=2.5.0,>=2.4->nbformat>=4.2.0->ipywidgets) (1.16.0)\n",
      "Requirement already satisfied: pyrsistent>=0.14.0 in /data/experiments/raring/miniconda2/envs/semantic_relation/lib/python3.9/site-packages (from jsonschema!=2.5.0,>=2.4->nbformat>=4.2.0->ipywidgets) (0.17.3)\n",
      "Requirement already satisfied: ptyprocess>=0.5 in /data/experiments/raring/miniconda2/envs/semantic_relation/lib/python3.9/site-packages (from pexpect>4.3->ipython>=4.0.0->ipywidgets) (0.7.0)\n",
      "Requirement already satisfied: wcwidth in /data/experiments/raring/miniconda2/envs/semantic_relation/lib/python3.9/site-packages (from prompt-toolkit!=3.0.0,!=3.0.1,<3.1.0,>=2.0.0->ipython>=4.0.0->ipywidgets) (0.2.5)\n",
      "Requirement already satisfied: notebook>=4.4.1 in /data/experiments/raring/miniconda2/envs/semantic_relation/lib/python3.9/site-packages (from widgetsnbextension~=3.5.0->ipywidgets) (6.4.0)\n",
      "Requirement already satisfied: pyzmq>=17 in /data/experiments/raring/miniconda2/envs/semantic_relation/lib/python3.9/site-packages (from notebook>=4.4.1->widgetsnbextension~=3.5.0->ipywidgets) (22.1.0)\n",
      "Requirement already satisfied: Send2Trash>=1.5.0 in /data/experiments/raring/miniconda2/envs/semantic_relation/lib/python3.9/site-packages (from notebook>=4.4.1->widgetsnbextension~=3.5.0->ipywidgets) (1.5.0)\n",
      "Requirement already satisfied: terminado>=0.8.3 in /data/experiments/raring/miniconda2/envs/semantic_relation/lib/python3.9/site-packages (from notebook>=4.4.1->widgetsnbextension~=3.5.0->ipywidgets) (0.10.0)\n",
      "Requirement already satisfied: prometheus-client in /data/experiments/raring/miniconda2/envs/semantic_relation/lib/python3.9/site-packages (from notebook>=4.4.1->widgetsnbextension~=3.5.0->ipywidgets) (0.10.1)\n",
      "Requirement already satisfied: nbconvert in /data/experiments/raring/miniconda2/envs/semantic_relation/lib/python3.9/site-packages (from notebook>=4.4.1->widgetsnbextension~=3.5.0->ipywidgets) (6.0.7)\n",
      "Requirement already satisfied: argon2-cffi in /data/experiments/raring/miniconda2/envs/semantic_relation/lib/python3.9/site-packages (from notebook>=4.4.1->widgetsnbextension~=3.5.0->ipywidgets) (20.1.0)\n",
      "Requirement already satisfied: jinja2 in /data/experiments/raring/miniconda2/envs/semantic_relation/lib/python3.9/site-packages (from notebook>=4.4.1->widgetsnbextension~=3.5.0->ipywidgets) (3.0.1)\n",
      "Requirement already satisfied: python-dateutil>=2.1 in /data/experiments/raring/miniconda2/envs/semantic_relation/lib/python3.9/site-packages (from jupyter-client->ipykernel>=4.5.1->ipywidgets) (2.8.1)\n",
      "Requirement already satisfied: kiwisolver>=1.0.1 in /data/experiments/raring/miniconda2/envs/semantic_relation/lib/python3.9/site-packages (from matplotlib) (1.3.1)\n",
      "Requirement already satisfied: pyparsing>=2.2.1 in /data/experiments/raring/miniconda2/envs/semantic_relation/lib/python3.9/site-packages (from matplotlib) (2.4.7)\n",
      "Requirement already satisfied: cycler>=0.10 in /data/experiments/raring/miniconda2/envs/semantic_relation/lib/python3.9/site-packages (from matplotlib) (0.10.0)\n",
      "Requirement already satisfied: pillow>=6.2.0 in /data/experiments/raring/miniconda2/envs/semantic_relation/lib/python3.9/site-packages (from matplotlib) (8.2.0)\n",
      "Requirement already satisfied: cffi>=1.0.0 in /data/experiments/raring/miniconda2/envs/semantic_relation/lib/python3.9/site-packages (from argon2-cffi->notebook>=4.4.1->widgetsnbextension~=3.5.0->ipywidgets) (1.14.5)\n",
      "Requirement already satisfied: pycparser in /data/experiments/raring/miniconda2/envs/semantic_relation/lib/python3.9/site-packages (from cffi>=1.0.0->argon2-cffi->notebook>=4.4.1->widgetsnbextension~=3.5.0->ipywidgets) (2.20)\n",
      "Requirement already satisfied: MarkupSafe>=2.0 in /data/experiments/raring/miniconda2/envs/semantic_relation/lib/python3.9/site-packages (from jinja2->notebook>=4.4.1->widgetsnbextension~=3.5.0->ipywidgets) (2.0.1)\n",
      "Requirement already satisfied: jupyterlab-pygments in /data/experiments/raring/miniconda2/envs/semantic_relation/lib/python3.9/site-packages (from nbconvert->notebook>=4.4.1->widgetsnbextension~=3.5.0->ipywidgets) (0.1.2)\n",
      "Requirement already satisfied: nbclient<0.6.0,>=0.5.0 in /data/experiments/raring/miniconda2/envs/semantic_relation/lib/python3.9/site-packages (from nbconvert->notebook>=4.4.1->widgetsnbextension~=3.5.0->ipywidgets) (0.5.3)\n",
      "Requirement already satisfied: bleach in /data/experiments/raring/miniconda2/envs/semantic_relation/lib/python3.9/site-packages (from nbconvert->notebook>=4.4.1->widgetsnbextension~=3.5.0->ipywidgets) (3.3.0)\n",
      "Requirement already satisfied: pandocfilters>=1.4.1 in /data/experiments/raring/miniconda2/envs/semantic_relation/lib/python3.9/site-packages (from nbconvert->notebook>=4.4.1->widgetsnbextension~=3.5.0->ipywidgets) (1.4.3)\n",
      "Requirement already satisfied: mistune<2,>=0.8.1 in /data/experiments/raring/miniconda2/envs/semantic_relation/lib/python3.9/site-packages (from nbconvert->notebook>=4.4.1->widgetsnbextension~=3.5.0->ipywidgets) (0.8.4)\n",
      "Requirement already satisfied: defusedxml in /data/experiments/raring/miniconda2/envs/semantic_relation/lib/python3.9/site-packages (from nbconvert->notebook>=4.4.1->widgetsnbextension~=3.5.0->ipywidgets) (0.7.1)\n",
      "Requirement already satisfied: entrypoints>=0.2.2 in /data/experiments/raring/miniconda2/envs/semantic_relation/lib/python3.9/site-packages (from nbconvert->notebook>=4.4.1->widgetsnbextension~=3.5.0->ipywidgets) (0.3)\n",
      "Requirement already satisfied: testpath in /data/experiments/raring/miniconda2/envs/semantic_relation/lib/python3.9/site-packages (from nbconvert->notebook>=4.4.1->widgetsnbextension~=3.5.0->ipywidgets) (0.5.0)\n",
      "Requirement already satisfied: nest-asyncio in /data/experiments/raring/miniconda2/envs/semantic_relation/lib/python3.9/site-packages (from nbclient<0.6.0,>=0.5.0->nbconvert->notebook>=4.4.1->widgetsnbextension~=3.5.0->ipywidgets) (1.5.1)\n",
      "Requirement already satisfied: async-generator in /data/experiments/raring/miniconda2/envs/semantic_relation/lib/python3.9/site-packages (from nbclient<0.6.0,>=0.5.0->nbconvert->notebook>=4.4.1->widgetsnbextension~=3.5.0->ipywidgets) (1.10)\n",
      "Requirement already satisfied: webencodings in /data/experiments/raring/miniconda2/envs/semantic_relation/lib/python3.9/site-packages (from bleach->nbconvert->notebook>=4.4.1->widgetsnbextension~=3.5.0->ipywidgets) (0.5.1)\n",
      "Requirement already satisfied: pytz>=2017.3 in /data/experiments/raring/miniconda2/envs/semantic_relation/lib/python3.9/site-packages (from pandas->datasets) (2021.1)\n",
      "Requirement already satisfied: sacremoses in /data/experiments/raring/miniconda2/envs/semantic_relation/lib/python3.9/site-packages (from transformers[torch]) (0.0.45)\n",
      "Requirement already satisfied: tokenizers<0.11,>=0.10.1 in /data/experiments/raring/miniconda2/envs/semantic_relation/lib/python3.9/site-packages (from transformers[torch]) (0.10.3)\n",
      "Requirement already satisfied: regex!=2019.12.17 in /data/experiments/raring/miniconda2/envs/semantic_relation/lib/python3.9/site-packages (from transformers[torch]) (2021.4.4)\n",
      "Requirement already satisfied: torch>=1.0 in /data/experiments/raring/miniconda2/envs/semantic_relation/lib/python3.9/site-packages (from transformers[torch]) (1.8.1)\n",
      "Requirement already satisfied: typing-extensions in /data/experiments/raring/miniconda2/envs/semantic_relation/lib/python3.9/site-packages (from torch>=1.0->transformers[torch]) (3.10.0.0)\n",
      "Requirement already satisfied: click in /data/experiments/raring/miniconda2/envs/semantic_relation/lib/python3.9/site-packages (from sacremoses->transformers[torch]) (8.0.1)\n",
      "Note: you may need to restart the kernel to use updated packages.\n"
     ]
    }
   ],
   "source": [
    "pip install numpy dkpro-cassis \"scikit-learn==0.23.1\" datasets transformers[torch] ipywidgets matplotlib"
   ]
  },
  {
   "cell_type": "code",
   "execution_count": 2,
   "id": "confirmed-dealing",
   "metadata": {},
   "outputs": [],
   "source": [
    "import torch\n",
    "import numpy as np\n",
    "import random\n",
    "import pandas as pd\n",
    "import matplotlib.pyplot as plt\n",
    "from IPython.display import display, HTML"
   ]
  },
  {
   "cell_type": "markdown",
   "id": "joint-fiber",
   "metadata": {},
   "source": [
    "# Import Project Data"
   ]
  },
  {
   "cell_type": "markdown",
   "id": "sunset-procurement",
   "metadata": {},
   "source": [
    "## Load CAS"
   ]
  },
  {
   "cell_type": "code",
   "execution_count": 3,
   "id": "dietary-serbia",
   "metadata": {},
   "outputs": [],
   "source": [
    "from cassis import *\n",
    "\n",
    "with open('./data/TypeSystem.xml', 'rb') as f:\n",
    "    typesystem = load_typesystem(f)\n",
    "\n",
    "cas = []\n",
    "\n",
    "# Random Dataset    \n",
    "with open('./data/random.xmi', 'rb') as f:\n",
    "    cas.append(load_cas_from_xmi(f, typesystem=typesystem))\n",
    "\n",
    "# Random Categories Dataset    \n",
    "with open('./data/random_categories.xmi', 'rb') as f:\n",
    "    cas.append(load_cas_from_xmi(f, typesystem=typesystem))\n",
    "\n",
    "# NSP Dataset    \n",
    "with open('./data/nsp.xmi', 'rb') as f:\n",
    "    cas.append(load_cas_from_xmi(f, typesystem=typesystem))\n",
    "\n",
    "# NSP Categories Dataset    \n",
    "with open('./data/nsp_categories.xmi', 'rb') as f:\n",
    "    cas.append(load_cas_from_xmi(f, typesystem=typesystem))\n",
    "\n",
    "# NSP Categories Dataset    03.06.\n",
    "with open('./data/nsp_categories_3_6.xmi', 'rb') as f:\n",
    "    cas.append(load_cas_from_xmi(f, typesystem=typesystem))\n",
    "\n",
    "# Similarity Dataset    \n",
    "with open('./data/similarity.xmi', 'rb') as f:\n",
    "    cas.append(load_cas_from_xmi(f, typesystem=typesystem))\n",
    "\n",
    "# Similarity Categories Dataset    \n",
    "with open('./data/similarity_categories.xmi', 'rb') as f:\n",
    "    cas.append(load_cas_from_xmi(f, typesystem=typesystem))\n",
    "\n",
    "# Similarity Categories Dataset 03.06.    \n",
    "with open('./data/similarity_categories_3_6.xmi', 'rb') as f:\n",
    "    cas.append(load_cas_from_xmi(f, typesystem=typesystem))\n",
    "\n",
    "# Similarity Categories Dataset 10.06.    \n",
    "with open('./data/similarity_categories_10_6.xmi', 'rb') as f:\n",
    "    cas.append(load_cas_from_xmi(f, typesystem=typesystem))\n",
    "\n",
    "# Similarity Categories Dataset 11.06.    \n",
    "with open('./data/similarity_categories_11_6.xmi', 'rb') as f:\n",
    "    cas.append(load_cas_from_xmi(f, typesystem=typesystem))\n"
   ]
  },
  {
   "cell_type": "markdown",
   "id": "french-rebecca",
   "metadata": {},
   "source": [
    "## Get Labels"
   ]
  },
  {
   "cell_type": "code",
   "execution_count": 4,
   "id": "alternate-booth",
   "metadata": {},
   "outputs": [],
   "source": [
    "# Without Translation (not used)\n",
    "labels = [\"none\", \"attribution\", \"causal\", \"conditional\", \"contrast\", \"description\", \"equivalence\", \"fulfillment\", \"identity\", \"purpose\", \"summary\", \"temporal\"]\n",
    "labels_subset = [\"none\", \"causal\", \"contrast\", \"equivalence\", \"identity\", \"temporal\", \"others\"]\n",
    "def index_of_label(val):\n",
    "    global labels_subset\n",
    "    try:\n",
    "        return labels_subset.index(val)\n",
    "    except ValueError:\n",
    "        return len(labels_subset) - 1"
   ]
  },
  {
   "cell_type": "markdown",
   "id": "offensive-skirt",
   "metadata": {},
   "source": [
    "## Get Annotations"
   ]
  },
  {
   "cell_type": "markdown",
   "id": "5fff65d4",
   "metadata": {},
   "source": [
    "### Set annotation Preference\n",
    "- Set whether to include news article headings or not\n",
    "- If news headings are included, define separator (heading1 + separator + sentence1)\n",
    "- Set whether to include timestamp of article\n",
    "- If timestamp is used, define separator"
   ]
  },
  {
   "cell_type": "code",
   "execution_count": 5,
   "id": "f9d8b20e",
   "metadata": {},
   "outputs": [],
   "source": [
    "annotation_with_news_title = True\n",
    "annotation_title_separator = \". \"\n",
    "annotation_with_timestamp = True\n",
    "annotation_timestamp_separator = \" \""
   ]
  },
  {
   "cell_type": "markdown",
   "id": "14a1f3f1",
   "metadata": {},
   "source": [
    "### Get Additional Doc Meta data (timestamp)"
   ]
  },
  {
   "cell_type": "code",
   "execution_count": 6,
   "id": "1cd44f59",
   "metadata": {},
   "outputs": [
    {
     "data": {
      "text/html": [
       "<div>\n",
       "<style scoped>\n",
       "    .dataframe tbody tr th:only-of-type {\n",
       "        vertical-align: middle;\n",
       "    }\n",
       "\n",
       "    .dataframe tbody tr th {\n",
       "        vertical-align: top;\n",
       "    }\n",
       "\n",
       "    .dataframe thead th {\n",
       "        text-align: right;\n",
       "    }\n",
       "</style>\n",
       "<table border=\"1\" class=\"dataframe\">\n",
       "  <thead>\n",
       "    <tr style=\"text-align: right;\">\n",
       "      <th></th>\n",
       "      <th>url</th>\n",
       "      <th>title</th>\n",
       "      <th>categories</th>\n",
       "      <th>timestamp</th>\n",
       "    </tr>\n",
       "    <tr>\n",
       "      <th>doc_id</th>\n",
       "      <th></th>\n",
       "      <th></th>\n",
       "      <th></th>\n",
       "      <th></th>\n",
       "    </tr>\n",
       "  </thead>\n",
       "  <tbody>\n",
       "    <tr>\n",
       "      <th>736</th>\n",
       "      <td>https://en.wikinews.org/wiki?curid=736</td>\n",
       "      <td>President of China lunches with Brazilian Pres...</td>\n",
       "      <td>Politics and conflicts,South America,Asia,Braz...</td>\n",
       "      <td>November 12, 2004</td>\n",
       "    </tr>\n",
       "    <tr>\n",
       "      <th>741</th>\n",
       "      <td>https://en.wikinews.org/wiki?curid=741</td>\n",
       "      <td>Palestinians to elect new president on January 9</td>\n",
       "      <td>Palestine,Elections,Mahmoud Abbas,Yasser Arafa...</td>\n",
       "      <td>November 14, 2004</td>\n",
       "    </tr>\n",
       "    <tr>\n",
       "      <th>743</th>\n",
       "      <td>https://en.wikinews.org/wiki?curid=743</td>\n",
       "      <td>Brazilian delegation returns from Arafat funeral</td>\n",
       "      <td>Palestine,Brazil,Politics and conflicts,Middle...</td>\n",
       "      <td>November 13, 2004</td>\n",
       "    </tr>\n",
       "    <tr>\n",
       "      <th>764</th>\n",
       "      <td>https://en.wikinews.org/wiki?curid=764</td>\n",
       "      <td>Hearing begins over David Hookes death</td>\n",
       "      <td>Australia,Cricket,Crime and law,Oceania</td>\n",
       "      <td>November 15, 2004</td>\n",
       "    </tr>\n",
       "    <tr>\n",
       "      <th>797</th>\n",
       "      <td>https://en.wikinews.org/wiki?curid=797</td>\n",
       "      <td>Brazilian soccer player's mother has been kidn...</td>\n",
       "      <td>South America,Brazil,Football (soccer),Crime a...</td>\n",
       "      <td>November 15, 2004</td>\n",
       "    </tr>\n",
       "    <tr>\n",
       "      <th>...</th>\n",
       "      <td>...</td>\n",
       "      <td>...</td>\n",
       "      <td>...</td>\n",
       "      <td>...</td>\n",
       "    </tr>\n",
       "    <tr>\n",
       "      <th>2909791</th>\n",
       "      <td>https://en.wikinews.org/wiki?curid=2909791</td>\n",
       "      <td>Mohsen Fakhrizadeh, leader of Iranian nuclear ...</td>\n",
       "      <td>Iran,Asia,Middle East,Nuclear technology,Obitu...</td>\n",
       "      <td>2020-11-30T21:59:34Z</td>\n",
       "    </tr>\n",
       "    <tr>\n",
       "      <th>2909805</th>\n",
       "      <td>https://en.wikinews.org/wiki?curid=2909805</td>\n",
       "      <td>Former US national security advisor Michael Fl...</td>\n",
       "      <td>United States,North America,Crime and law,Poli...</td>\n",
       "      <td>2020-11-28T22:49:40Z</td>\n",
       "    </tr>\n",
       "    <tr>\n",
       "      <th>2909818</th>\n",
       "      <td>https://en.wikinews.org/wiki?curid=2909818</td>\n",
       "      <td>Wikinews interviews Sandra Jephcott, Sustainab...</td>\n",
       "      <td>Australia,Elections,Climate change,COVID-19,Qu...</td>\n",
       "      <td>2020-11-27T15:33:59Z</td>\n",
       "    </tr>\n",
       "    <tr>\n",
       "      <th>2909884</th>\n",
       "      <td>https://en.wikinews.org/wiki?curid=2909884</td>\n",
       "      <td>Wikinews interviews Craig Farquharson, Liberal...</td>\n",
       "      <td>Australia,Elections,Queensland,Democracy,Polit...</td>\n",
       "      <td>November 27, 2020</td>\n",
       "    </tr>\n",
       "    <tr>\n",
       "      <th>2910010</th>\n",
       "      <td>https://en.wikinews.org/wiki?curid=2910010</td>\n",
       "      <td>Toddler shot in Ontario</td>\n",
       "      <td>Ontario</td>\n",
       "      <td>2020-11-28T23:21:13Z</td>\n",
       "    </tr>\n",
       "  </tbody>\n",
       "</table>\n",
       "<p>16536 rows × 4 columns</p>\n",
       "</div>"
      ],
      "text/plain": [
       "                                                url  \\\n",
       "doc_id                                                \n",
       "736          https://en.wikinews.org/wiki?curid=736   \n",
       "741          https://en.wikinews.org/wiki?curid=741   \n",
       "743          https://en.wikinews.org/wiki?curid=743   \n",
       "764          https://en.wikinews.org/wiki?curid=764   \n",
       "797          https://en.wikinews.org/wiki?curid=797   \n",
       "...                                             ...   \n",
       "2909791  https://en.wikinews.org/wiki?curid=2909791   \n",
       "2909805  https://en.wikinews.org/wiki?curid=2909805   \n",
       "2909818  https://en.wikinews.org/wiki?curid=2909818   \n",
       "2909884  https://en.wikinews.org/wiki?curid=2909884   \n",
       "2910010  https://en.wikinews.org/wiki?curid=2910010   \n",
       "\n",
       "                                                     title  \\\n",
       "doc_id                                                       \n",
       "736      President of China lunches with Brazilian Pres...   \n",
       "741       Palestinians to elect new president on January 9   \n",
       "743       Brazilian delegation returns from Arafat funeral   \n",
       "764                 Hearing begins over David Hookes death   \n",
       "797      Brazilian soccer player's mother has been kidn...   \n",
       "...                                                    ...   \n",
       "2909791  Mohsen Fakhrizadeh, leader of Iranian nuclear ...   \n",
       "2909805  Former US national security advisor Michael Fl...   \n",
       "2909818  Wikinews interviews Sandra Jephcott, Sustainab...   \n",
       "2909884  Wikinews interviews Craig Farquharson, Liberal...   \n",
       "2910010                            Toddler shot in Ontario   \n",
       "\n",
       "                                                categories  \\\n",
       "doc_id                                                       \n",
       "736      Politics and conflicts,South America,Asia,Braz...   \n",
       "741      Palestine,Elections,Mahmoud Abbas,Yasser Arafa...   \n",
       "743      Palestine,Brazil,Politics and conflicts,Middle...   \n",
       "764                Australia,Cricket,Crime and law,Oceania   \n",
       "797      South America,Brazil,Football (soccer),Crime a...   \n",
       "...                                                    ...   \n",
       "2909791  Iran,Asia,Middle East,Nuclear technology,Obitu...   \n",
       "2909805  United States,North America,Crime and law,Poli...   \n",
       "2909818  Australia,Elections,Climate change,COVID-19,Qu...   \n",
       "2909884  Australia,Elections,Queensland,Democracy,Polit...   \n",
       "2910010                                            Ontario   \n",
       "\n",
       "                    timestamp  \n",
       "doc_id                         \n",
       "736         November 12, 2004  \n",
       "741         November 14, 2004  \n",
       "743         November 13, 2004  \n",
       "764         November 15, 2004  \n",
       "797         November 15, 2004  \n",
       "...                       ...  \n",
       "2909791  2020-11-30T21:59:34Z  \n",
       "2909805  2020-11-28T22:49:40Z  \n",
       "2909818  2020-11-27T15:33:59Z  \n",
       "2909884     November 27, 2020  \n",
       "2910010  2020-11-28T23:21:13Z  \n",
       "\n",
       "[16536 rows x 4 columns]"
      ]
     },
     "metadata": {},
     "output_type": "display_data"
    }
   ],
   "source": [
    "if annotation_with_timestamp:\n",
    "    doc_df = pd.read_csv(\"./malte-candidates/meta-output.docs.tsv\", sep=\"\\t\")\n",
    "    doc_df = doc_df.set_index(\"doc_id\")\n",
    "    display(doc_df)"
   ]
  },
  {
   "cell_type": "code",
   "execution_count": 7,
   "id": "bb017d68",
   "metadata": {},
   "outputs": [],
   "source": [
    "#doc_df.loc[741]"
   ]
  },
  {
   "cell_type": "code",
   "execution_count": 8,
   "id": "bb7dbfb8",
   "metadata": {},
   "outputs": [],
   "source": [
    "def get_timestamp_from_doc(doc_id):\n",
    "    global doc_df\n",
    "    try: \n",
    "        item = doc_df.loc[int(doc_id)]\n",
    "        return item.timestamp\n",
    "    except (TypeError, ValueError, KeyError) as e:\n",
    "        print(f\"Cannot find Doc #{doc_id}: {e}\")\n",
    "        return \"\""
   ]
  },
  {
   "cell_type": "markdown",
   "id": "4cee9de3",
   "metadata": {},
   "source": [
    "### Read Annotations"
   ]
  },
  {
   "cell_type": "code",
   "execution_count": 9,
   "id": "swedish-display",
   "metadata": {},
   "outputs": [],
   "source": [
    "total_number_pairs = 0\n",
    "label_count = [0] * len(labels_subset)\n",
    "# Random, NSP, Similarity\n",
    "pair_matching_count = [0, 0, 0]\n",
    "\n",
    "def read_annotations(tmp_cas, controlPairList = []):\n",
    "    global labels, labels_subset, annotation_with_news_title, annotation_title_separator, annotation_with_timestamp, annotation_timestamp_separator\n",
    "    origin = []\n",
    "    target = []\n",
    "    label = []\n",
    "    for sentence in tmp_cas.select('webanno.custom.Sentence'):\n",
    "        for token in tmp_cas.select_covered('webanno.custom.SentenceRelation', sentence):\n",
    "            # Only use annotated data\n",
    "            if token.label != \"unset\":\n",
    "                # Check for redundant pairs\n",
    "                uid = f\"g{token.Governor.sent_id}_d_{token.Dependent.sent_id}\"\n",
    "                if uid not in controlPairList:\n",
    "                    origin_string = \"\"\n",
    "                    target_string = \"\"\n",
    "                    label.append(index_of_label(token.label))\n",
    "                    # Also add meta data: title\n",
    "                    if annotation_with_news_title:\n",
    "                        origin_string += token.Governor.get_covered_text() + annotation_title_separator\n",
    "                        target_string += token.Dependent.get_covered_text() + annotation_title_separator\n",
    "                    # Add Sentences\n",
    "                    origin_string += token.Governor.title\n",
    "                    target_string += token.Dependent.title\n",
    "                    # Also add meta data: timestamp\n",
    "                    if annotation_with_timestamp:\n",
    "                        origin_string += annotation_timestamp_separator + get_timestamp_from_doc(token.Governor.doc_id)\n",
    "                        target_string += annotation_timestamp_separator + get_timestamp_from_doc(token.Dependent.doc_id)\n",
    "                    # Add String to list\n",
    "                    origin.append(origin_string)\n",
    "                    target.append(target_string)\n",
    "                    controlPairList.append(uid)\n",
    "                    #print('Dependent: ' + token.Dependent.get_*covered_text())\n",
    "                    #print('Governor: ' + token.Governor.get_covered_text())\n",
    "                    #print('Label: ' + token.label)\n",
    "                    #print('')\n",
    "    return origin, target, label, controlPairList\n"
   ]
  },
  {
   "cell_type": "markdown",
   "id": "expanded-flash",
   "metadata": {},
   "source": [
    "## Combine CAS Systems"
   ]
  },
  {
   "cell_type": "code",
   "execution_count": 10,
   "id": "packed-proposal",
   "metadata": {},
   "outputs": [],
   "source": [
    "def combined_cas_read(cas_list):\n",
    "    global pair_matching_count\n",
    "    origin = []\n",
    "    target = []\n",
    "    label = []\n",
    "    count = 0\n",
    "    # control list of pairs to not add redundant pairs\n",
    "    controlPairList = []\n",
    "    for cas in cas_list:\n",
    "        count += 1\n",
    "        origin_tmp, target_tmp, label_tmp, controlPairList_tmp = read_annotations(cas, controlPairList)\n",
    "        # Count Statistics\n",
    "        if(count <= 2):\n",
    "            pair_matching_count[0] += len(label_tmp)\n",
    "        elif(count <= 5):\n",
    "            pair_matching_count[1] += len(label_tmp)\n",
    "        else:\n",
    "            pair_matching_count[2] += len(label_tmp)\n",
    "        origin += origin_tmp\n",
    "        target += target_tmp\n",
    "        label += label_tmp\n",
    "        controlPairList += controlPairList_tmp\n",
    "    return origin, target, label\n",
    "\n",
    "origin, target, label = combined_cas_read(cas)\n",
    "total_number_pairs = len(label)\n"
   ]
  },
  {
   "cell_type": "markdown",
   "id": "raising-cholesterol",
   "metadata": {},
   "source": [
    "## Split / K-Fold"
   ]
  },
  {
   "cell_type": "markdown",
   "id": "d5488bc8",
   "metadata": {},
   "source": [
    "### Set Random Seeds for reproducability"
   ]
  },
  {
   "cell_type": "code",
   "execution_count": 11,
   "id": "9bff97e1",
   "metadata": {},
   "outputs": [],
   "source": [
    "def set_seed(seed_number: int):\n",
    "    global seed\n",
    "    seed = seed_number\n",
    "    np.random.seed(seed_number)\n",
    "    torch.manual_seed(seed_number)\n",
    "    torch.cuda.manual_seed_all(seed_number)\n",
    "\n",
    "set_seed(122)"
   ]
  },
  {
   "cell_type": "markdown",
   "id": "19f505b4",
   "metadata": {},
   "source": [
    "### k-Fold Split with same distribution"
   ]
  },
  {
   "cell_type": "code",
   "execution_count": 12,
   "id": "1a0ffca3",
   "metadata": {},
   "outputs": [],
   "source": [
    "from sklearn.model_selection import StratifiedKFold, train_test_split\n",
    "\n",
    "# o: origin, t: target, l: label list\n",
    "def k_fold_train_test_split(o, t, l, random_state=None):\n",
    "    skf = StratifiedKFold(n_splits=4, shuffle=True, random_state=random_state)\n",
    "    # Empty dataset (not needed)\n",
    "    empty_X = np.zeros(len(l))\n",
    "    skf.get_n_splits(empty_X, l)\n",
    "    origin_array = np.array(o)\n",
    "    target_array = np.array(t)\n",
    "    label_array = np.array(l)\n",
    "    # Store all k-folds\n",
    "    k_fold_origin = []\n",
    "    k_fold_target = []\n",
    "    k_fold_labels = []\n",
    "    for train_index, test_index in skf.split(empty_X, l):\n",
    "        #print(\"TRAIN:\", train_index, \"TEST:\", test_index)\n",
    "        train_origin, test_origin = origin_array[train_index], origin_array[test_index]\n",
    "        train_target, test_target = target_array[train_index], target_array[test_index]\n",
    "        train_labels, test_labels = label_array[train_index], label_array[test_index]\n",
    "        k_fold_origin.append([train_origin.tolist(), test_origin.tolist()])\n",
    "        k_fold_target.append([train_target.tolist(), test_target.tolist()])\n",
    "        k_fold_labels.append([train_labels.tolist(), test_labels.tolist()])\n",
    "    return k_fold_origin, k_fold_target, k_fold_labels\n",
    "\n",
    "#train_origin, test_origin, train_target, test_target, train_labels, test_labels = train_test_split(origin, target, label,random_state=seed, stratify=label)\n",
    "\n",
    "#tmp_train_origin, val_origin, tmp_train_target, val_target, tmp_train_labels, val_labels = train_test_split(origin, target, label, random_state=seed)\n",
    "#train_origin, test_origin, train_target, test_target, train_labels, test_labels = train_test_split(tmp_train_origin, tmp_train_target, tmp_train_labels,random_state=seed)\n",
    "k_fold_origin, k_fold_target, k_fold_labels = k_fold_train_test_split(origin, target, label,random_state=seed)"
   ]
  },
  {
   "cell_type": "markdown",
   "id": "5cf32517",
   "metadata": {},
   "source": [
    "## Print Examples"
   ]
  },
  {
   "cell_type": "code",
   "execution_count": 13,
   "id": "efbd918e",
   "metadata": {
    "scrolled": false
   },
   "outputs": [],
   "source": [
    "#train_encodings"
   ]
  },
  {
   "cell_type": "code",
   "execution_count": 14,
   "id": "bbe4fd48",
   "metadata": {},
   "outputs": [],
   "source": [
    "def show_random_elements(origin_list, target_list, label_list, num_examples=10):\n",
    "    global labels_subset\n",
    "    assert num_examples <= len(origin_list), \"Can't pick more elements than there are in the dataset.\"\n",
    "    picks = []\n",
    "    for _ in range(num_examples):\n",
    "        pick = random.randint(0, len(origin_list)-1)\n",
    "        while pick in picks:\n",
    "            pick = random.randint(0, len(origin_list)-1)\n",
    "        picks.append(pick)\n",
    "    data = []\n",
    "    for n in picks:\n",
    "        data.append([n, origin_list[n], labels_subset[label_list[n]], target_list[n]])\n",
    "    df = pd.DataFrame(data, columns=['index', 'Origin', 'Label', 'Target'])\n",
    "    display(HTML(df.to_html()))"
   ]
  },
  {
   "cell_type": "code",
   "execution_count": 15,
   "id": "3cb93df6",
   "metadata": {},
   "outputs": [
    {
     "data": {
      "text/html": [
       "<table border=\"1\" class=\"dataframe\">\n",
       "  <thead>\n",
       "    <tr style=\"text-align: right;\">\n",
       "      <th></th>\n",
       "      <th>index</th>\n",
       "      <th>Origin</th>\n",
       "      <th>Label</th>\n",
       "      <th>Target</th>\n",
       "    </tr>\n",
       "  </thead>\n",
       "  <tbody>\n",
       "    <tr>\n",
       "      <th>0</th>\n",
       "      <td>1474</td>\n",
       "      <td>The Haaretz had initially reported that former prime minister Mahmoud Abbas was selected by the Fatah central committee as their candidate for president, but Abbas has denied this, saying, the matter is still being discussed.. Palestinians to elect new president on January 9 November 14, 2004</td>\n",
       "      <td>none</td>\n",
       "      <td>He said he would be heading home to Gaza later in the day, but once the border crossing is officially reopened, he wants to return to Egypt legally, allowing him freedom of movement.. Egypt seals border with Gaza after 11 days February 3, 2008</td>\n",
       "    </tr>\n",
       "    <tr>\n",
       "      <th>1</th>\n",
       "      <td>2747</td>\n",
       "      <td>The two officers were responding to a call at about 9:00 p.m. on December 5, that a male and female were fighting inside a Valero gas station located on West Chippewa and Elmwood Avenues in Downtown Buffalo when one of the suspects, Varner Harris, 18 and lives in Buffalo, fled police.. Injured Buffalo, New York police officer returns home December 8, 2006</td>\n",
       "      <td>none</td>\n",
       "      <td>According to Buffalo Fire Department radio communications, at least 12 people were injured after a van carrying a church group flipped over on an expressway interchange in Buffalo, New York.. 12 injured after van carrying church group flips over on Buffalo, NY expressway August 17, 2009</td>\n",
       "    </tr>\n",
       "    <tr>\n",
       "      <th>2</th>\n",
       "      <td>2232</td>\n",
       "      <td>According to officials, almost a hundred people suspected to be insurgents were killed in northwestern Pakistan early on Saturday by air strikes conducted by the military.. Officials: Almost 100 killed in air raids in Pakistan April 10, 2010</td>\n",
       "      <td>none</td>\n",
       "      <td>According to official reports corroborated by Pakistani President General Pervez Musharraf, the blast was set off as the victims were making explosives inside a suspected al-Qaeda hideout.. Top al-Qaeda leader killed in Pakistan December 3, 2005</td>\n",
       "    </tr>\n",
       "    <tr>\n",
       "      <th>3</th>\n",
       "      <td>533</td>\n",
       "      <td>The ANSTO report found nuclear plants could be built in the next 10 to 15 years and an Australian version would cost about $2.5 billion to establish.. Australian nuclear power plants rejected by states June 05, 2006</td>\n",
       "      <td>none</td>\n",
       "      <td>Justice Haynes said that the definitions in the constitution need to be read in context of the 1890s, which were boom and bust times for corporations in Australia.. States challenge to Australian Work Choices Act begins December 22, 2006</td>\n",
       "    </tr>\n",
       "    <tr>\n",
       "      <th>4</th>\n",
       "      <td>2433</td>\n",
       "      <td>President Josefa Iloilo abrogated the country's constitution and declared himself head of state in response to a court ruling that the military regime was unlawful.. Journalists deported from Fiji April 10, 2009</td>\n",
       "      <td>others</td>\n",
       "      <td>Fiji's Court of Appeal has ruled that the removal of Prime Minister Laisenia Qarase and the appointment of Fiji's interim regime following the military coup in 2006 was unlawful.. Fiji court rules interim regime unlawful April 9, 2009</td>\n",
       "    </tr>\n",
       "    <tr>\n",
       "      <th>5</th>\n",
       "      <td>3080</td>\n",
       "      <td>Since attacks by separatists in Thailand's Malay Muslim-majority provinces flared up in January 2004, there are have about 2,000 people killed in bombings and almost-daily drive-by shootings.. Police officer killed, at least 18 injured in south Thailand blasts  July 17, 2007</td>\n",
       "      <td>causal</td>\n",
       "      <td>On Sunday, 12 people were injured and one killed in a series of bombings in the city of Hat Yai. The next day, four people were killed when a bomb-laden motorcycle exploded at a crowded market in Saba Yoi. Six men were arrested on Thursday in connection with Sunday's bombings.. 21 dead in south Thailand attacks May 29, 2007</td>\n",
       "    </tr>\n",
       "    <tr>\n",
       "      <th>6</th>\n",
       "      <td>404</td>\n",
       "      <td>There has never been any threat of violence against Housespideranon or any other member of Anonymous made by me, Schaper told Wikinews.. Alleged 'rights group' tries to have 4,000 anti-Scientology videos removed from YouTube April 18, 2008</td>\n",
       "      <td>none</td>\n",
       "      <td>The company responsible for making the porno film is Van Nuys, California-based Shane's World.. California State University, Chico fraternity suspended for making frat house porno flick March 29, 2005</td>\n",
       "    </tr>\n",
       "    <tr>\n",
       "      <th>7</th>\n",
       "      <td>854</td>\n",
       "      <td>Although it welcomed the news of disarmament, the Commission said it was concerned by the UVF's intention to deal with their arms without the involvement of the IICD.. Ulster Volunteer Force announces it will put weapons \"beyond reach\" May 3, 2007</td>\n",
       "      <td>contrast</td>\n",
       "      <td>Political figures, led by Mary McAleese, and including leaders of major political parties from across Ireland's political spectrum such as Fine Gael, the Labour Party (Ireland)|Labour Party, Social Democratic and Labour Party|Social Democratic Labour Party have condemned the violence.. Riots cease in Dublin against Unionist march 25 February, 2006</td>\n",
       "    </tr>\n",
       "    <tr>\n",
       "      <th>8</th>\n",
       "      <td>446</td>\n",
       "      <td>Enrollment in the program costs the business US$199.. Fort Lee, Virginia adopts RAPIDGate for fast civilian access May 8, 2007</td>\n",
       "      <td>none</td>\n",
       "      <td>Accounting for 23.4% of all mortgage complaints in Commerce Township, 132 of the complaints for being unable to pay were made regarding Bank of America, accounting for 97.8% or all but 3 complaints against them from the zip.. Bank of America leads Consumer Financial Protection Bureau complaints about mortgages 2015-02-19T15:52:41Z</td>\n",
       "    </tr>\n",
       "    <tr>\n",
       "      <th>9</th>\n",
       "      <td>2714</td>\n",
       "      <td>Old Five hundred and 1000 rupee notes could can be exchanged in banks, head and sub post offices from November 10 till December 30 In his announcement, Modi said,   Modi also announced those who failed to change their currency till December 30 can exchange the notes at  (RBI)'s office along with a declaration form till March 31.. India discontinues ₹500, ₹1000 denominations; releases ₹2000 and new ₹500 bills 2020-07-31T14:08:07Z</td>\n",
       "      <td>none</td>\n",
       "      <td>When asked if criminal demand for the note would simply be displaced to other high-value notes, such as the €200 note (the next-highest denomination), Ian Cruxton, deputy director of SOCA said he believed that would be the case, however, with less of the €200 note in circulation, their movements would be easier to track than those of the €500.. Five hundred Euro note withdrawn from sale in UK 13 May 2010</td>\n",
       "    </tr>\n",
       "  </tbody>\n",
       "</table>"
      ],
      "text/plain": [
       "<IPython.core.display.HTML object>"
      ]
     },
     "metadata": {},
     "output_type": "display_data"
    }
   ],
   "source": [
    "# show_random_elements(train_origin, train_target, train_labels, train_encodings)\n",
    "# Output adjustet to Folds\n",
    "show_random_elements(k_fold_origin[0][0], k_fold_target[0][0], k_fold_labels[0][0])"
   ]
  },
  {
   "cell_type": "markdown",
   "id": "4232411d",
   "metadata": {},
   "source": [
    "## Print Statistics"
   ]
  },
  {
   "cell_type": "code",
   "execution_count": 16,
   "id": "09ef776e",
   "metadata": {},
   "outputs": [],
   "source": [
    "distribution_count = [0] * len(labels_subset)\n",
    "def get_label_statistics(label_list):\n",
    "    global labels_subset, distribution_count\n",
    "    count = [0] * len(labels_subset)\n",
    "    total = 0\n",
    "    # total numbers\n",
    "    for l in label_list:\n",
    "        total = total + 1\n",
    "        count[l] = count[l] + 1\n",
    "        distribution_count[l] += 1\n",
    "    # display percentages\n",
    "    if total > 0:\n",
    "        for i in range(len(count)):\n",
    "            count[i] = str(count[i]) + \" (\" + str(round(count[i] * 100 / total, 2)) + \"%)\"\n",
    "    return count\n",
    "\n"
   ]
  },
  {
   "cell_type": "markdown",
   "id": "67a7c176",
   "metadata": {},
   "source": [
    "### Number of Pairs & Matchings"
   ]
  },
  {
   "cell_type": "code",
   "execution_count": 17,
   "id": "6a112baa",
   "metadata": {},
   "outputs": [
    {
     "data": {
      "text/html": [
       "<div>\n",
       "<style scoped>\n",
       "    .dataframe tbody tr th:only-of-type {\n",
       "        vertical-align: middle;\n",
       "    }\n",
       "\n",
       "    .dataframe tbody tr th {\n",
       "        vertical-align: top;\n",
       "    }\n",
       "\n",
       "    .dataframe thead th {\n",
       "        text-align: right;\n",
       "    }\n",
       "</style>\n",
       "<table border=\"1\" class=\"dataframe\">\n",
       "  <thead>\n",
       "    <tr style=\"text-align: right;\">\n",
       "      <th></th>\n",
       "      <th>Random</th>\n",
       "      <th>NSP</th>\n",
       "      <th>Similarity</th>\n",
       "      <th>Total</th>\n",
       "    </tr>\n",
       "  </thead>\n",
       "  <tbody>\n",
       "    <tr>\n",
       "      <th>0</th>\n",
       "      <td>1232</td>\n",
       "      <td>1058</td>\n",
       "      <td>2712</td>\n",
       "      <td>5002</td>\n",
       "    </tr>\n",
       "  </tbody>\n",
       "</table>\n",
       "</div>"
      ],
      "text/plain": [
       "   Random   NSP  Similarity  Total\n",
       "0    1232  1058        2712   5002"
      ]
     },
     "metadata": {},
     "output_type": "display_data"
    }
   ],
   "source": [
    "pair_matching_count.append(total_number_pairs)\n",
    "df_matching = pd.DataFrame([pair_matching_count], columns=[\"Random\", \"NSP\", \"Similarity\", \"Total\"])\n",
    "display(df_matching)"
   ]
  },
  {
   "cell_type": "code",
   "execution_count": 18,
   "id": "06a4975e",
   "metadata": {},
   "outputs": [
    {
     "data": {
      "image/png": "[encoded data removed]",
      "text/plain": [
       "<Figure size 432x288 with 1 Axes>"
      ]
     },
     "metadata": {},
     "output_type": "display_data"
    }
   ],
   "source": [
    "plt.pie(np.array(pair_matching_count[:-1]), labels = [\"Random\", \"NSP\", \"Similarity\"])\n",
    "plt.savefig('data/export-subset/pairs_matching.png', dpi=300)\n",
    "plt.show() "
   ]
  },
  {
   "cell_type": "markdown",
   "id": "9a746990",
   "metadata": {},
   "source": [
    "### Label Distribution"
   ]
  },
  {
   "cell_type": "code",
   "execution_count": 19,
   "id": "c8576e16",
   "metadata": {},
   "outputs": [
    {
     "data": {
      "text/html": [
       "<div>\n",
       "<style scoped>\n",
       "    .dataframe tbody tr th:only-of-type {\n",
       "        vertical-align: middle;\n",
       "    }\n",
       "\n",
       "    .dataframe tbody tr th {\n",
       "        vertical-align: top;\n",
       "    }\n",
       "\n",
       "    .dataframe thead th {\n",
       "        text-align: right;\n",
       "    }\n",
       "</style>\n",
       "<table border=\"1\" class=\"dataframe\">\n",
       "  <thead>\n",
       "    <tr style=\"text-align: right;\">\n",
       "      <th></th>\n",
       "      <th>none</th>\n",
       "      <th>causal</th>\n",
       "      <th>contrast</th>\n",
       "      <th>equivalence</th>\n",
       "      <th>identity</th>\n",
       "      <th>temporal</th>\n",
       "      <th>others</th>\n",
       "    </tr>\n",
       "  </thead>\n",
       "  <tbody>\n",
       "    <tr>\n",
       "      <th>0</th>\n",
       "      <td>3172 (63.41%)</td>\n",
       "      <td>434 (8.68%)</td>\n",
       "      <td>165 (3.3%)</td>\n",
       "      <td>340 (6.8%)</td>\n",
       "      <td>80 (1.6%)</td>\n",
       "      <td>590 (11.8%)</td>\n",
       "      <td>221 (4.42%)</td>\n",
       "    </tr>\n",
       "  </tbody>\n",
       "</table>\n",
       "</div>"
      ],
      "text/plain": [
       "            none       causal    contrast equivalence   identity     temporal  \\\n",
       "0  3172 (63.41%)  434 (8.68%)  165 (3.3%)  340 (6.8%)  80 (1.6%)  590 (11.8%)   \n",
       "\n",
       "        others  \n",
       "0  221 (4.42%)  "
      ]
     },
     "metadata": {},
     "output_type": "display_data"
    }
   ],
   "source": [
    "df_distribution = pd.DataFrame([get_label_statistics(label)], columns=labels_subset)\n",
    "display(df_distribution)\n"
   ]
  },
  {
   "cell_type": "code",
   "execution_count": 20,
   "id": "73bf1131",
   "metadata": {},
   "outputs": [
    {
     "data": {
      "image/png": "[encoded data removed]",
      "text/plain": [
       "<Figure size 432x288 with 1 Axes>"
      ]
     },
     "metadata": {},
     "output_type": "display_data"
    }
   ],
   "source": [
    "myexplode = [0] * len(labels_subset)\n",
    "myexplode[0] = 0.2\n",
    "patches, texts = plt.pie(np.array(distribution_count), explode = myexplode)\n",
    "# Sort Labels\n",
    "patches, labels, dummy =  zip(*sorted(zip(patches, labels_subset, np.array(distribution_count)),key=lambda x: x[2],reverse=True))\n",
    "plt.legend(patches, labels, loc='center left', bbox_to_anchor=(1., 0.5),fontsize=8)\n",
    "plt.savefig('data/export-subset/pairs_distribution.png', dpi=300)\n",
    "plt.show() "
   ]
  },
  {
   "cell_type": "markdown",
   "id": "a85c150a",
   "metadata": {},
   "source": [
    "# Write Folds to disk"
   ]
  },
  {
   "cell_type": "code",
   "execution_count": 21,
   "id": "d8738d99",
   "metadata": {},
   "outputs": [],
   "source": [
    "export_path = \"data/export-subset/\""
   ]
  },
  {
   "cell_type": "code",
   "execution_count": 22,
   "id": "3c6581c5",
   "metadata": {},
   "outputs": [],
   "source": [
    "def create_df(origin, target, label):\n",
    "    return pd.DataFrame(list(zip(origin, target, label)), columns=['origin', 'target', 'label'])\n",
    "\n",
    "def export_dfs(k_fold_origin, k_fold_target, k_fold_labels):\n",
    "    global export_path\n",
    "    for i in range(len(k_fold_origin)):\n",
    "        train_df = create_df(k_fold_origin[i][0], k_fold_target[i][0], k_fold_labels[i][0])\n",
    "        test_df = create_df(k_fold_origin[i][1], k_fold_target[i][1], k_fold_labels[i][1])\n",
    "        train_df.to_csv(f'{export_path}train.{i}.csv', index=False)\n",
    "        test_df.to_csv(f'{export_path}test.{i}.csv', index=False)"
   ]
  },
  {
   "cell_type": "code",
   "execution_count": 23,
   "id": "c449e8fd",
   "metadata": {},
   "outputs": [],
   "source": [
    "export_dfs(k_fold_origin, k_fold_target, k_fold_labels)"
   ]
  },
  {
   "cell_type": "code",
   "execution_count": null,
   "id": "3f020e15",
   "metadata": {},
   "outputs": [],
   "source": []
  }
 ],
 "metadata": {
  "kernelspec": {
   "display_name": "Python 3",
   "language": "python",
   "name": "python3"
  },
  "language_info": {
   "codemirror_mode": {
    "name": "ipython",
    "version": 3
   },
   "file_extension": ".py",
   "mimetype": "text/x-python",
   "name": "python",
   "nbconvert_exporter": "python",
   "pygments_lexer": "ipython3",
   "version": "3.9.5"
  }
 },
 "nbformat": 4,
 "nbformat_minor": 5
}
