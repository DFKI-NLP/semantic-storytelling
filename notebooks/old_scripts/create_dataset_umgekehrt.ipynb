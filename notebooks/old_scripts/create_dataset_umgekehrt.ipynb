{
 "cells": [
  {
   "cell_type": "markdown",
   "id": "changing-boring",
   "metadata": {},
   "source": [
    "# Install"
   ]
  },
  {
   "cell_type": "markdown",
   "id": "august-trauma",
   "metadata": {},
   "source": [
    "## Install Package to write CAS XMI files\n",
    "See https://github.com/dkpro/dkpro-cassis"
   ]
  },
  {
   "cell_type": "code",
   "execution_count": 1,
   "id": "recognized-plymouth",
   "metadata": {
    "scrolled": true
   },
   "outputs": [
    {
     "name": "stdout",
     "output_type": "stream",
     "text": [
      "Requirement already satisfied: numpy in /data/experiments/raring/miniconda2/envs/semantic_relation/lib/python3.9/site-packages (1.20.3)\n",
      "Requirement already satisfied: dkpro-cassis in /data/experiments/raring/miniconda2/envs/semantic_relation/lib/python3.9/site-packages (0.5.2)\n",
      "Requirement already satisfied: scikit-learn==0.23.1 in /data/experiments/raring/miniconda2/envs/semantic_relation/lib/python3.9/site-packages (0.23.1)\n",
      "Requirement already satisfied: datasets in /data/experiments/raring/miniconda2/envs/semantic_relation/lib/python3.9/site-packages (1.7.0)\n",
      "Requirement already satisfied: transformers[torch] in /data/experiments/raring/miniconda2/envs/semantic_relation/lib/python3.9/site-packages (4.6.1)\n",
      "Requirement already satisfied: ipywidgets in /data/experiments/raring/miniconda2/envs/semantic_relation/lib/python3.9/site-packages (7.6.3)\n",
      "Requirement already satisfied: matplotlib in /data/experiments/raring/miniconda2/envs/semantic_relation/lib/python3.9/site-packages (3.4.2)\n",
      "Requirement already satisfied: scipy>=0.19.1 in /data/experiments/raring/miniconda2/envs/semantic_relation/lib/python3.9/site-packages (from scikit-learn==0.23.1) (1.6.3)\n",
      "Requirement already satisfied: joblib>=0.11 in /data/experiments/raring/miniconda2/envs/semantic_relation/lib/python3.9/site-packages (from scikit-learn==0.23.1) (1.0.1)\n",
      "Requirement already satisfied: threadpoolctl>=2.0.0 in /data/experiments/raring/miniconda2/envs/semantic_relation/lib/python3.9/site-packages (from scikit-learn==0.23.1) (2.1.0)\n",
      "Requirement already satisfied: sortedcontainers>=2.1.0 in /data/experiments/raring/miniconda2/envs/semantic_relation/lib/python3.9/site-packages (from dkpro-cassis) (2.4.0)\n",
      "Requirement already satisfied: lxml>=4.5.0 in /data/experiments/raring/miniconda2/envs/semantic_relation/lib/python3.9/site-packages (from dkpro-cassis) (4.6.3)\n",
      "Requirement already satisfied: toposort>=1.5 in /data/experiments/raring/miniconda2/envs/semantic_relation/lib/python3.9/site-packages (from dkpro-cassis) (1.6)\n",
      "Requirement already satisfied: more-itertools>=8.2.0 in /data/experiments/raring/miniconda2/envs/semantic_relation/lib/python3.9/site-packages (from dkpro-cassis) (8.8.0)\n",
      "Requirement already satisfied: attrs>=19.3.0 in /data/experiments/raring/miniconda2/envs/semantic_relation/lib/python3.9/site-packages (from dkpro-cassis) (21.2.0)\n",
      "Requirement already satisfied: deprecation>=2.0.7 in /data/experiments/raring/miniconda2/envs/semantic_relation/lib/python3.9/site-packages (from dkpro-cassis) (2.1.0)\n",
      "Requirement already satisfied: importlib-resources>=1.0.2 in /data/experiments/raring/miniconda2/envs/semantic_relation/lib/python3.9/site-packages (from dkpro-cassis) (5.1.4)\n",
      "Requirement already satisfied: packaging in /data/experiments/raring/miniconda2/envs/semantic_relation/lib/python3.9/site-packages (from deprecation>=2.0.7->dkpro-cassis) (20.9)\n",
      "Requirement already satisfied: zipp>=3.1.0 in /data/experiments/raring/miniconda2/envs/semantic_relation/lib/python3.9/site-packages (from importlib-resources>=1.0.2->dkpro-cassis) (3.4.1)\n",
      "Requirement already satisfied: dill in /data/experiments/raring/miniconda2/envs/semantic_relation/lib/python3.9/site-packages (from datasets) (0.3.3)\n",
      "Requirement already satisfied: fsspec in /data/experiments/raring/miniconda2/envs/semantic_relation/lib/python3.9/site-packages (from datasets) (2021.5.0)\n",
      "Requirement already satisfied: pyarrow<4.0.0,>=1.0.0 in /data/experiments/raring/miniconda2/envs/semantic_relation/lib/python3.9/site-packages (from datasets) (3.0.0)\n",
      "Requirement already satisfied: pandas in /data/experiments/raring/miniconda2/envs/semantic_relation/lib/python3.9/site-packages (from datasets) (1.2.4)\n",
      "Requirement already satisfied: xxhash in /data/experiments/raring/miniconda2/envs/semantic_relation/lib/python3.9/site-packages (from datasets) (2.0.2)\n",
      "Requirement already satisfied: tqdm<4.50.0,>=4.27 in /data/experiments/raring/miniconda2/envs/semantic_relation/lib/python3.9/site-packages (from datasets) (4.49.0)\n",
      "Requirement already satisfied: huggingface-hub<0.1.0 in /data/experiments/raring/miniconda2/envs/semantic_relation/lib/python3.9/site-packages (from datasets) (0.0.8)\n",
      "Requirement already satisfied: multiprocess in /data/experiments/raring/miniconda2/envs/semantic_relation/lib/python3.9/site-packages (from datasets) (0.70.11.1)\n",
      "Requirement already satisfied: requests>=2.19.0 in /data/experiments/raring/miniconda2/envs/semantic_relation/lib/python3.9/site-packages (from datasets) (2.25.1)\n",
      "Requirement already satisfied: filelock in /data/experiments/raring/miniconda2/envs/semantic_relation/lib/python3.9/site-packages (from huggingface-hub<0.1.0->datasets) (3.0.12)\n",
      "Requirement already satisfied: urllib3<1.27,>=1.21.1 in /data/experiments/raring/miniconda2/envs/semantic_relation/lib/python3.9/site-packages (from requests>=2.19.0->datasets) (1.26.5)\n",
      "Requirement already satisfied: chardet<5,>=3.0.2 in /data/experiments/raring/miniconda2/envs/semantic_relation/lib/python3.9/site-packages (from requests>=2.19.0->datasets) (4.0.0)\n",
      "Requirement already satisfied: certifi>=2017.4.17 in /data/experiments/raring/miniconda2/envs/semantic_relation/lib/python3.9/site-packages (from requests>=2.19.0->datasets) (2020.12.5)\n",
      "Requirement already satisfied: idna<3,>=2.5 in /data/experiments/raring/miniconda2/envs/semantic_relation/lib/python3.9/site-packages (from requests>=2.19.0->datasets) (2.10)\n",
      "Requirement already satisfied: jupyterlab-widgets>=1.0.0 in /data/experiments/raring/miniconda2/envs/semantic_relation/lib/python3.9/site-packages (from ipywidgets) (1.0.0)\n",
      "Requirement already satisfied: ipython>=4.0.0 in /data/experiments/raring/miniconda2/envs/semantic_relation/lib/python3.9/site-packages (from ipywidgets) (7.23.1)\n",
      "Requirement already satisfied: traitlets>=4.3.1 in /data/experiments/raring/miniconda2/envs/semantic_relation/lib/python3.9/site-packages (from ipywidgets) (5.0.5)\n",
      "Requirement already satisfied: widgetsnbextension~=3.5.0 in /data/experiments/raring/miniconda2/envs/semantic_relation/lib/python3.9/site-packages (from ipywidgets) (3.5.1)\n",
      "Requirement already satisfied: ipykernel>=4.5.1 in /data/experiments/raring/miniconda2/envs/semantic_relation/lib/python3.9/site-packages (from ipywidgets) (5.5.5)\n",
      "Requirement already satisfied: nbformat>=4.2.0 in /data/experiments/raring/miniconda2/envs/semantic_relation/lib/python3.9/site-packages (from ipywidgets) (5.1.3)\n",
      "Requirement already satisfied: jupyter-client in /data/experiments/raring/miniconda2/envs/semantic_relation/lib/python3.9/site-packages (from ipykernel>=4.5.1->ipywidgets) (6.1.12)\n",
      "Requirement already satisfied: tornado>=4.2 in /data/experiments/raring/miniconda2/envs/semantic_relation/lib/python3.9/site-packages (from ipykernel>=4.5.1->ipywidgets) (6.1)\n",
      "Requirement already satisfied: setuptools>=18.5 in /data/experiments/raring/miniconda2/envs/semantic_relation/lib/python3.9/site-packages (from ipython>=4.0.0->ipywidgets) (52.0.0.post20210125)\n",
      "Requirement already satisfied: pygments in /data/experiments/raring/miniconda2/envs/semantic_relation/lib/python3.9/site-packages (from ipython>=4.0.0->ipywidgets) (2.9.0)\n",
      "Requirement already satisfied: decorator in /data/experiments/raring/miniconda2/envs/semantic_relation/lib/python3.9/site-packages (from ipython>=4.0.0->ipywidgets) (5.0.9)\n",
      "Requirement already satisfied: matplotlib-inline in /data/experiments/raring/miniconda2/envs/semantic_relation/lib/python3.9/site-packages (from ipython>=4.0.0->ipywidgets) (0.1.2)\n",
      "Requirement already satisfied: backcall in /data/experiments/raring/miniconda2/envs/semantic_relation/lib/python3.9/site-packages (from ipython>=4.0.0->ipywidgets) (0.2.0)\n",
      "Requirement already satisfied: pickleshare in /data/experiments/raring/miniconda2/envs/semantic_relation/lib/python3.9/site-packages (from ipython>=4.0.0->ipywidgets) (0.7.5)\n",
      "Requirement already satisfied: prompt-toolkit!=3.0.0,!=3.0.1,<3.1.0,>=2.0.0 in /data/experiments/raring/miniconda2/envs/semantic_relation/lib/python3.9/site-packages (from ipython>=4.0.0->ipywidgets) (3.0.18)\n",
      "Requirement already satisfied: pexpect>4.3 in /data/experiments/raring/miniconda2/envs/semantic_relation/lib/python3.9/site-packages (from ipython>=4.0.0->ipywidgets) (4.8.0)\n",
      "Requirement already satisfied: jedi>=0.16 in /data/experiments/raring/miniconda2/envs/semantic_relation/lib/python3.9/site-packages (from ipython>=4.0.0->ipywidgets) (0.18.0)\n",
      "Requirement already satisfied: parso<0.9.0,>=0.8.0 in /data/experiments/raring/miniconda2/envs/semantic_relation/lib/python3.9/site-packages (from jedi>=0.16->ipython>=4.0.0->ipywidgets) (0.8.2)\n"
     ]
    },
    {
     "name": "stdout",
     "output_type": "stream",
     "text": [
      "Requirement already satisfied: jupyter-core in /data/experiments/raring/miniconda2/envs/semantic_relation/lib/python3.9/site-packages (from nbformat>=4.2.0->ipywidgets) (4.7.1)\n",
      "Requirement already satisfied: ipython-genutils in /data/experiments/raring/miniconda2/envs/semantic_relation/lib/python3.9/site-packages (from nbformat>=4.2.0->ipywidgets) (0.2.0)\n",
      "Requirement already satisfied: jsonschema!=2.5.0,>=2.4 in /data/experiments/raring/miniconda2/envs/semantic_relation/lib/python3.9/site-packages (from nbformat>=4.2.0->ipywidgets) (3.2.0)\n",
      "Requirement already satisfied: six>=1.11.0 in /data/experiments/raring/miniconda2/envs/semantic_relation/lib/python3.9/site-packages (from jsonschema!=2.5.0,>=2.4->nbformat>=4.2.0->ipywidgets) (1.16.0)\n",
      "Requirement already satisfied: pyrsistent>=0.14.0 in /data/experiments/raring/miniconda2/envs/semantic_relation/lib/python3.9/site-packages (from jsonschema!=2.5.0,>=2.4->nbformat>=4.2.0->ipywidgets) (0.17.3)\n",
      "Requirement already satisfied: ptyprocess>=0.5 in /data/experiments/raring/miniconda2/envs/semantic_relation/lib/python3.9/site-packages (from pexpect>4.3->ipython>=4.0.0->ipywidgets) (0.7.0)\n",
      "Requirement already satisfied: wcwidth in /data/experiments/raring/miniconda2/envs/semantic_relation/lib/python3.9/site-packages (from prompt-toolkit!=3.0.0,!=3.0.1,<3.1.0,>=2.0.0->ipython>=4.0.0->ipywidgets) (0.2.5)\n",
      "Requirement already satisfied: notebook>=4.4.1 in /data/experiments/raring/miniconda2/envs/semantic_relation/lib/python3.9/site-packages (from widgetsnbextension~=3.5.0->ipywidgets) (6.4.0)\n",
      "Requirement already satisfied: jinja2 in /data/experiments/raring/miniconda2/envs/semantic_relation/lib/python3.9/site-packages (from notebook>=4.4.1->widgetsnbextension~=3.5.0->ipywidgets) (3.0.1)\n",
      "Requirement already satisfied: prometheus-client in /data/experiments/raring/miniconda2/envs/semantic_relation/lib/python3.9/site-packages (from notebook>=4.4.1->widgetsnbextension~=3.5.0->ipywidgets) (0.10.1)\n",
      "Requirement already satisfied: terminado>=0.8.3 in /data/experiments/raring/miniconda2/envs/semantic_relation/lib/python3.9/site-packages (from notebook>=4.4.1->widgetsnbextension~=3.5.0->ipywidgets) (0.10.0)\n",
      "Requirement already satisfied: pyzmq>=17 in /data/experiments/raring/miniconda2/envs/semantic_relation/lib/python3.9/site-packages (from notebook>=4.4.1->widgetsnbextension~=3.5.0->ipywidgets) (22.1.0)\n",
      "Requirement already satisfied: Send2Trash>=1.5.0 in /data/experiments/raring/miniconda2/envs/semantic_relation/lib/python3.9/site-packages (from notebook>=4.4.1->widgetsnbextension~=3.5.0->ipywidgets) (1.5.0)\n",
      "Requirement already satisfied: nbconvert in /data/experiments/raring/miniconda2/envs/semantic_relation/lib/python3.9/site-packages (from notebook>=4.4.1->widgetsnbextension~=3.5.0->ipywidgets) (6.0.7)\n",
      "Requirement already satisfied: argon2-cffi in /data/experiments/raring/miniconda2/envs/semantic_relation/lib/python3.9/site-packages (from notebook>=4.4.1->widgetsnbextension~=3.5.0->ipywidgets) (20.1.0)\n",
      "Requirement already satisfied: python-dateutil>=2.1 in /data/experiments/raring/miniconda2/envs/semantic_relation/lib/python3.9/site-packages (from jupyter-client->ipykernel>=4.5.1->ipywidgets) (2.8.1)\n",
      "Requirement already satisfied: pillow>=6.2.0 in /data/experiments/raring/miniconda2/envs/semantic_relation/lib/python3.9/site-packages (from matplotlib) (8.2.0)\n",
      "Requirement already satisfied: cycler>=0.10 in /data/experiments/raring/miniconda2/envs/semantic_relation/lib/python3.9/site-packages (from matplotlib) (0.10.0)\n",
      "Requirement already satisfied: kiwisolver>=1.0.1 in /data/experiments/raring/miniconda2/envs/semantic_relation/lib/python3.9/site-packages (from matplotlib) (1.3.1)\n",
      "Requirement already satisfied: pyparsing>=2.2.1 in /data/experiments/raring/miniconda2/envs/semantic_relation/lib/python3.9/site-packages (from matplotlib) (2.4.7)\n",
      "Requirement already satisfied: cffi>=1.0.0 in /data/experiments/raring/miniconda2/envs/semantic_relation/lib/python3.9/site-packages (from argon2-cffi->notebook>=4.4.1->widgetsnbextension~=3.5.0->ipywidgets) (1.14.5)\n",
      "Requirement already satisfied: pycparser in /data/experiments/raring/miniconda2/envs/semantic_relation/lib/python3.9/site-packages (from cffi>=1.0.0->argon2-cffi->notebook>=4.4.1->widgetsnbextension~=3.5.0->ipywidgets) (2.20)\n",
      "Requirement already satisfied: MarkupSafe>=2.0 in /data/experiments/raring/miniconda2/envs/semantic_relation/lib/python3.9/site-packages (from jinja2->notebook>=4.4.1->widgetsnbextension~=3.5.0->ipywidgets) (2.0.1)\n",
      "Requirement already satisfied: defusedxml in /data/experiments/raring/miniconda2/envs/semantic_relation/lib/python3.9/site-packages (from nbconvert->notebook>=4.4.1->widgetsnbextension~=3.5.0->ipywidgets) (0.7.1)\n",
      "Requirement already satisfied: pandocfilters>=1.4.1 in /data/experiments/raring/miniconda2/envs/semantic_relation/lib/python3.9/site-packages (from nbconvert->notebook>=4.4.1->widgetsnbextension~=3.5.0->ipywidgets) (1.4.3)\n",
      "Requirement already satisfied: jupyterlab-pygments in /data/experiments/raring/miniconda2/envs/semantic_relation/lib/python3.9/site-packages (from nbconvert->notebook>=4.4.1->widgetsnbextension~=3.5.0->ipywidgets) (0.1.2)\n",
      "Requirement already satisfied: nbclient<0.6.0,>=0.5.0 in /data/experiments/raring/miniconda2/envs/semantic_relation/lib/python3.9/site-packages (from nbconvert->notebook>=4.4.1->widgetsnbextension~=3.5.0->ipywidgets) (0.5.3)\n",
      "Requirement already satisfied: bleach in /data/experiments/raring/miniconda2/envs/semantic_relation/lib/python3.9/site-packages (from nbconvert->notebook>=4.4.1->widgetsnbextension~=3.5.0->ipywidgets) (3.3.0)\n",
      "Requirement already satisfied: mistune<2,>=0.8.1 in /data/experiments/raring/miniconda2/envs/semantic_relation/lib/python3.9/site-packages (from nbconvert->notebook>=4.4.1->widgetsnbextension~=3.5.0->ipywidgets) (0.8.4)\n",
      "Requirement already satisfied: entrypoints>=0.2.2 in /data/experiments/raring/miniconda2/envs/semantic_relation/lib/python3.9/site-packages (from nbconvert->notebook>=4.4.1->widgetsnbextension~=3.5.0->ipywidgets) (0.3)\n",
      "Requirement already satisfied: testpath in /data/experiments/raring/miniconda2/envs/semantic_relation/lib/python3.9/site-packages (from nbconvert->notebook>=4.4.1->widgetsnbextension~=3.5.0->ipywidgets) (0.5.0)\n",
      "Requirement already satisfied: async-generator in /data/experiments/raring/miniconda2/envs/semantic_relation/lib/python3.9/site-packages (from nbclient<0.6.0,>=0.5.0->nbconvert->notebook>=4.4.1->widgetsnbextension~=3.5.0->ipywidgets) (1.10)\n",
      "Requirement already satisfied: nest-asyncio in /data/experiments/raring/miniconda2/envs/semantic_relation/lib/python3.9/site-packages (from nbclient<0.6.0,>=0.5.0->nbconvert->notebook>=4.4.1->widgetsnbextension~=3.5.0->ipywidgets) (1.5.1)\n",
      "Requirement already satisfied: webencodings in /data/experiments/raring/miniconda2/envs/semantic_relation/lib/python3.9/site-packages (from bleach->nbconvert->notebook>=4.4.1->widgetsnbextension~=3.5.0->ipywidgets) (0.5.1)\n",
      "Requirement already satisfied: pytz>=2017.3 in /data/experiments/raring/miniconda2/envs/semantic_relation/lib/python3.9/site-packages (from pandas->datasets) (2021.1)\n",
      "Requirement already satisfied: tokenizers<0.11,>=0.10.1 in /data/experiments/raring/miniconda2/envs/semantic_relation/lib/python3.9/site-packages (from transformers[torch]) (0.10.3)\n",
      "Requirement already satisfied: regex!=2019.12.17 in /data/experiments/raring/miniconda2/envs/semantic_relation/lib/python3.9/site-packages (from transformers[torch]) (2021.4.4)\n",
      "Requirement already satisfied: sacremoses in /data/experiments/raring/miniconda2/envs/semantic_relation/lib/python3.9/site-packages (from transformers[torch]) (0.0.45)\n",
      "Requirement already satisfied: torch>=1.0 in /data/experiments/raring/miniconda2/envs/semantic_relation/lib/python3.9/site-packages (from transformers[torch]) (1.8.1)\n",
      "Requirement already satisfied: typing-extensions in /data/experiments/raring/miniconda2/envs/semantic_relation/lib/python3.9/site-packages (from torch>=1.0->transformers[torch]) (3.10.0.0)\n",
      "Requirement already satisfied: click in /data/experiments/raring/miniconda2/envs/semantic_relation/lib/python3.9/site-packages (from sacremoses->transformers[torch]) (8.0.1)\n",
      "Note: you may need to restart the kernel to use updated packages.\n"
     ]
    }
   ],
   "source": [
    "pip install numpy dkpro-cassis \"scikit-learn==0.23.1\" datasets transformers[torch] ipywidgets matplotlib"
   ]
  },
  {
   "cell_type": "code",
   "execution_count": 2,
   "id": "confirmed-dealing",
   "metadata": {},
   "outputs": [],
   "source": [
    "import torch\n",
    "import numpy as np\n",
    "import random\n",
    "import pandas as pd\n",
    "import matplotlib.pyplot as plt\n",
    "from IPython.display import display, HTML"
   ]
  },
  {
   "cell_type": "markdown",
   "id": "joint-fiber",
   "metadata": {},
   "source": [
    "# Import Project Data"
   ]
  },
  {
   "cell_type": "markdown",
   "id": "sunset-procurement",
   "metadata": {},
   "source": [
    "## Load CAS"
   ]
  },
  {
   "cell_type": "code",
   "execution_count": null,
   "id": "dietary-serbia",
   "metadata": {},
   "outputs": [],
   "source": [
    "from cassis import *\n",
    "\n",
    "with open('./data/TypeSystem.xml', 'rb') as f:\n",
    "    typesystem = load_typesystem(f)\n",
    "\n",
    "cas = []\n",
    "\n",
    "# Random Dataset    \n",
    "with open('./data/random.xmi', 'rb') as f:\n",
    "    cas.append(load_cas_from_xmi(f, typesystem=typesystem))\n",
    "\n",
    "# Random Categories Dataset    \n",
    "with open('./data/random_categories.xmi', 'rb') as f:\n",
    "    cas.append(load_cas_from_xmi(f, typesystem=typesystem))\n",
    "\n",
    "# NSP Dataset    \n",
    "with open('./data/nsp.xmi', 'rb') as f:\n",
    "    cas.append(load_cas_from_xmi(f, typesystem=typesystem))\n",
    "\n",
    "# NSP Categories Dataset    \n",
    "with open('./data/nsp_categories.xmi', 'rb') as f:\n",
    "    cas.append(load_cas_from_xmi(f, typesystem=typesystem))\n",
    "\n",
    "# NSP Categories Dataset    03.06.\n",
    "with open('./data/nsp_categories_3_6.xmi', 'rb') as f:\n",
    "    cas.append(load_cas_from_xmi(f, typesystem=typesystem))\n",
    "\n",
    "# Similarity Dataset    \n",
    "with open('./data/similarity.xmi', 'rb') as f:\n",
    "    cas.append(load_cas_from_xmi(f, typesystem=typesystem))\n",
    "\n",
    "# Similarity Categories Dataset    \n",
    "with open('./data/similarity_categories.xmi', 'rb') as f:\n",
    "    cas.append(load_cas_from_xmi(f, typesystem=typesystem))\n",
    "\n",
    "# Similarity Categories Dataset 03.06.    \n",
    "with open('./data/similarity_categories_3_6.xmi', 'rb') as f:\n",
    "    cas.append(load_cas_from_xmi(f, typesystem=typesystem))\n",
    "\n",
    "# Similarity Categories Dataset 10.06.    \n",
    "with open('./data/similarity_categories_10_6.xmi', 'rb') as f:\n",
    "    cas.append(load_cas_from_xmi(f, typesystem=typesystem))\n",
    "\n",
    "# Similarity Categories Dataset 11.06.    \n",
    "with open('./data/similarity_categories_11_6.xmi', 'rb') as f:\n",
    "    cas.append(load_cas_from_xmi(f, typesystem=typesystem))\n"
   ]
  },
  {
   "cell_type": "markdown",
   "id": "french-rebecca",
   "metadata": {},
   "source": [
    "## Get Labels"
   ]
  },
  {
   "cell_type": "code",
   "execution_count": null,
   "id": "alternate-booth",
   "metadata": {},
   "outputs": [],
   "source": [
    "# Without Translation (not used)\n",
    "labels = [\"none\", \"attribution\", \"causal\", \"conditional\", \"contrast\", \"description\", \"equivalence\", \"fulfillment\", \"identity\", \"purpose\", \"summary\", \"temporal\"]"
   ]
  },
  {
   "cell_type": "markdown",
   "id": "offensive-skirt",
   "metadata": {},
   "source": [
    "## Get Annotations"
   ]
  },
  {
   "cell_type": "markdown",
   "id": "5fff65d4",
   "metadata": {},
   "source": [
    "### Set annotation Preference\n",
    "- Set whether to include news article headings or not\n",
    "- If news headings are included, define separator (heading1 + separator + sentence1)\n",
    "- Set whether to include timestamp of article\n",
    "- If timestamp is used, define separator"
   ]
  },
  {
   "cell_type": "code",
   "execution_count": null,
   "id": "f9d8b20e",
   "metadata": {},
   "outputs": [],
   "source": [
    "annotation_with_news_title = True\n",
    "annotation_title_separator = \". \"\n",
    "annotation_with_timestamp = True\n",
    "annotation_timestamp_separator = \" \""
   ]
  },
  {
   "cell_type": "markdown",
   "id": "14a1f3f1",
   "metadata": {},
   "source": [
    "### Get Additional Doc Meta data (timestamp)"
   ]
  },
  {
   "cell_type": "code",
   "execution_count": null,
   "id": "1cd44f59",
   "metadata": {},
   "outputs": [],
   "source": [
    "if annotation_with_timestamp:\n",
    "    doc_df = pd.read_csv(\"./malte-candidates/meta-output.docs.tsv\", sep=\"\\t\")\n",
    "    doc_df = doc_df.set_index(\"doc_id\")\n",
    "    display(doc_df)"
   ]
  },
  {
   "cell_type": "code",
   "execution_count": null,
   "id": "bb017d68",
   "metadata": {},
   "outputs": [],
   "source": [
    "#doc_df.loc[741]"
   ]
  },
  {
   "cell_type": "code",
   "execution_count": null,
   "id": "bb7dbfb8",
   "metadata": {},
   "outputs": [],
   "source": [
    "def get_timestamp_from_doc(doc_id):\n",
    "    global doc_df\n",
    "    try: \n",
    "        item = doc_df.loc[int(doc_id)]\n",
    "        return item.timestamp\n",
    "    except (TypeError, ValueError, KeyError) as e:\n",
    "        print(f\"Cannot find Doc #{doc_id}: {e}\")\n",
    "        return \"\""
   ]
  },
  {
   "cell_type": "markdown",
   "id": "4cee9de3",
   "metadata": {},
   "source": [
    "### Read Annotations"
   ]
  },
  {
   "cell_type": "code",
   "execution_count": null,
   "id": "swedish-display",
   "metadata": {},
   "outputs": [],
   "source": [
    "total_number_pairs = 0\n",
    "label_count = [0] * len(labels)\n",
    "# Random, NSP, Similarity\n",
    "pair_matching_count = [0, 0, 0]\n",
    "\n",
    "def read_annotations(tmp_cas, controlPairList = []):\n",
    "    global labels, annotation_with_news_title, annotation_title_separator, annotation_with_timestamp, annotation_timestamp_separator\n",
    "    origin = []\n",
    "    target = []\n",
    "    label = []\n",
    "    for sentence in tmp_cas.select('webanno.custom.Sentence'):\n",
    "        for token in tmp_cas.select_covered('webanno.custom.SentenceRelation', sentence):\n",
    "            # Only use annotated data\n",
    "            if token.label != \"unset\":\n",
    "                # Check for redundant pairs\n",
    "                uid = f\"g{token.Governor.sent_id}_d_{token.Dependent.sent_id}\"\n",
    "                if uid not in controlPairList:\n",
    "                    origin_string = \"\"\n",
    "                    target_string = \"\"\n",
    "                    label.append(labels.index(token.label))\n",
    "                    # Also add meta data: title\n",
    "                    if annotation_with_news_title:\n",
    "                        origin_string += token.Governor.get_covered_text() + annotation_title_separator\n",
    "                        target_string += token.Dependent.get_covered_text() + annotation_title_separator\n",
    "                    # Add Sentences\n",
    "                    origin_string += token.Governor.title\n",
    "                    target_string += token.Dependent.title\n",
    "                    # Also add meta data: timestamp\n",
    "                    if annotation_with_timestamp:\n",
    "                        origin_string += annotation_timestamp_separator + get_timestamp_from_doc(token.Governor.doc_id)\n",
    "                        target_string += annotation_timestamp_separator + get_timestamp_from_doc(token.Dependent.doc_id)\n",
    "                    # Add String to list\n",
    "                    origin.append(origin_string)\n",
    "                    target.append(target_string)\n",
    "                    controlPairList.append(uid)\n",
    "                    #print('Dependent: ' + token.Dependent.get_*covered_text())\n",
    "                    #print('Governor: ' + token.Governor.get_covered_text())\n",
    "                    #print('Label: ' + token.label)\n",
    "                    #print('')\n",
    "    return origin, target, label, controlPairList\n"
   ]
  },
  {
   "cell_type": "markdown",
   "id": "expanded-flash",
   "metadata": {},
   "source": [
    "## Combine CAS Systems"
   ]
  },
  {
   "cell_type": "code",
   "execution_count": null,
   "id": "packed-proposal",
   "metadata": {},
   "outputs": [],
   "source": [
    "def combined_cas_read(cas_list):\n",
    "    global pair_matching_count\n",
    "    origin = []\n",
    "    target = []\n",
    "    label = []\n",
    "    count = 0\n",
    "    # control list of pairs to not add redundant pairs\n",
    "    controlPairList = []\n",
    "    for cas in cas_list:\n",
    "        count += 1\n",
    "        origin_tmp, target_tmp, label_tmp, controlPairList_tmp = read_annotations(cas, controlPairList)\n",
    "        # Count Statistics\n",
    "        if(count <= 2):\n",
    "            pair_matching_count[0] += len(label_tmp)\n",
    "        elif(count <= 5):\n",
    "            pair_matching_count[1] += len(label_tmp)\n",
    "        else:\n",
    "            pair_matching_count[2] += len(label_tmp)\n",
    "        origin += origin_tmp\n",
    "        target += target_tmp\n",
    "        label += label_tmp\n",
    "        controlPairList += controlPairList_tmp\n",
    "    return origin, target, label\n",
    "\n",
    "origin, target, label = combined_cas_read(cas)\n",
    "total_number_pairs = len(label)\n"
   ]
  },
  {
   "cell_type": "markdown",
   "id": "raising-cholesterol",
   "metadata": {},
   "source": [
    "## Split / K-Fold"
   ]
  },
  {
   "cell_type": "markdown",
   "id": "d5488bc8",
   "metadata": {},
   "source": [
    "### Set Random Seeds for reproducability"
   ]
  },
  {
   "cell_type": "code",
   "execution_count": null,
   "id": "9bff97e1",
   "metadata": {},
   "outputs": [],
   "source": [
    "def set_seed(seed_number: int):\n",
    "    global seed\n",
    "    seed = seed_number\n",
    "    np.random.seed(seed_number)\n",
    "    torch.manual_seed(seed_number)\n",
    "    torch.cuda.manual_seed_all(seed_number)\n",
    "\n",
    "set_seed(122)"
   ]
  },
  {
   "cell_type": "markdown",
   "id": "19f505b4",
   "metadata": {},
   "source": [
    "### k-Fold Split with same distribution"
   ]
  },
  {
   "cell_type": "code",
   "execution_count": null,
   "id": "1a0ffca3",
   "metadata": {},
   "outputs": [],
   "source": [
    "from sklearn.model_selection import StratifiedKFold, train_test_split\n",
    "\n",
    "# o: origin, t: target, l: label list\n",
    "def k_fold_train_test_split(o, t, l, random_state=None):\n",
    "    skf = StratifiedKFold(n_splits=4, shuffle=True, random_state=random_state)\n",
    "    # Empty dataset (not needed)\n",
    "    empty_X = np.zeros(len(l))\n",
    "    skf.get_n_splits(empty_X, l)\n",
    "    origin_array = np.array(o)\n",
    "    target_array = np.array(t)\n",
    "    label_array = np.array(l)\n",
    "    # Store all k-folds\n",
    "    k_fold_origin = []\n",
    "    k_fold_target = []\n",
    "    k_fold_labels = []\n",
    "    for train_index, test_index in skf.split(empty_X, l):\n",
    "        #print(\"TRAIN:\", train_index, \"TEST:\", test_index)\n",
    "        train_origin, test_origin = origin_array[train_index], origin_array[test_index]\n",
    "        train_target, test_target = target_array[train_index], target_array[test_index]\n",
    "        train_labels, test_labels = label_array[train_index], label_array[test_index]\n",
    "        k_fold_origin.append([train_origin.tolist(), test_origin.tolist()])\n",
    "        k_fold_target.append([train_target.tolist(), test_target.tolist()])\n",
    "        k_fold_labels.append([train_labels.tolist(), test_labels.tolist()])\n",
    "    return k_fold_origin, k_fold_target, k_fold_labels\n",
    "\n",
    "#train_origin, test_origin, train_target, test_target, train_labels, test_labels = train_test_split(origin, target, label,random_state=seed, stratify=label)\n",
    "\n",
    "#tmp_train_origin, val_origin, tmp_train_target, val_target, tmp_train_labels, val_labels = train_test_split(origin, target, label, random_state=seed)\n",
    "#train_origin, test_origin, train_target, test_target, train_labels, test_labels = train_test_split(tmp_train_origin, tmp_train_target, tmp_train_labels,random_state=seed)\n",
    "k_fold_origin, k_fold_target, k_fold_labels = k_fold_train_test_split(origin, target, label,random_state=seed)"
   ]
  },
  {
   "cell_type": "markdown",
   "id": "5cf32517",
   "metadata": {},
   "source": [
    "## Print Examples"
   ]
  },
  {
   "cell_type": "code",
   "execution_count": null,
   "id": "efbd918e",
   "metadata": {
    "scrolled": false
   },
   "outputs": [],
   "source": [
    "#train_encodings"
   ]
  },
  {
   "cell_type": "code",
   "execution_count": null,
   "id": "bbe4fd48",
   "metadata": {},
   "outputs": [],
   "source": [
    "def show_random_elements(origin_list, target_list, label_list, num_examples=10):\n",
    "    global labels\n",
    "    assert num_examples <= len(origin_list), \"Can't pick more elements than there are in the dataset.\"\n",
    "    picks = []\n",
    "    for _ in range(num_examples):\n",
    "        pick = random.randint(0, len(origin_list)-1)\n",
    "        while pick in picks:\n",
    "            pick = random.randint(0, len(origin_list)-1)\n",
    "        picks.append(pick)\n",
    "    data = []\n",
    "    for n in picks:\n",
    "        data.append([n, origin_list[n], labels[label_list[n]], target_list[n]])\n",
    "    df = pd.DataFrame(data, columns=['index', 'Origin', 'Label', 'Target'])\n",
    "    display(HTML(df.to_html()))"
   ]
  },
  {
   "cell_type": "code",
   "execution_count": null,
   "id": "3cb93df6",
   "metadata": {},
   "outputs": [],
   "source": [
    "# show_random_elements(train_origin, train_target, train_labels, train_encodings)\n",
    "# Output adjustet to Folds\n",
    "show_random_elements(k_fold_origin[0][0], k_fold_target[0][0], k_fold_labels[0][0])"
   ]
  },
  {
   "cell_type": "markdown",
   "id": "4232411d",
   "metadata": {},
   "source": [
    "## Print Statistics"
   ]
  },
  {
   "cell_type": "code",
   "execution_count": null,
   "id": "09ef776e",
   "metadata": {},
   "outputs": [],
   "source": [
    "distribution_count = [0] * len(labels)\n",
    "def get_label_statistics(label_list):\n",
    "    global labels, distribution_count\n",
    "    count = [0] * len(labels)\n",
    "    total = 0\n",
    "    # total numbers\n",
    "    for l in label_list:\n",
    "        total = total + 1\n",
    "        count[l] = count[l] + 1\n",
    "        distribution_count[l] += 1\n",
    "    # display percentages\n",
    "    if total > 0:\n",
    "        for i in range(len(count)):\n",
    "            count[i] = str(count[i]) + \" (\" + str(round(count[i] * 100 / total, 2)) + \"%)\"\n",
    "    return count\n",
    "\n"
   ]
  },
  {
   "cell_type": "markdown",
   "id": "67a7c176",
   "metadata": {},
   "source": [
    "### Number of Pairs & Matchings"
   ]
  },
  {
   "cell_type": "code",
   "execution_count": null,
   "id": "6a112baa",
   "metadata": {},
   "outputs": [],
   "source": [
    "pair_matching_count.append(total_number_pairs)\n",
    "df_matching = pd.DataFrame([pair_matching_count], columns=[\"Random\", \"NSP\", \"Similarity\", \"Total\"])\n",
    "display(df_matching)"
   ]
  },
  {
   "cell_type": "code",
   "execution_count": null,
   "id": "06a4975e",
   "metadata": {},
   "outputs": [],
   "source": [
    "plt.pie(np.array(pair_matching_count[:-1]), labels = [\"Random\", \"NSP\", \"Similarity\"])\n",
    "plt.savefig('data/export/pairs_matching.png', dpi=300)\n",
    "plt.show() "
   ]
  },
  {
   "cell_type": "markdown",
   "id": "9a746990",
   "metadata": {},
   "source": [
    "### Label Distribution"
   ]
  },
  {
   "cell_type": "code",
   "execution_count": null,
   "id": "c8576e16",
   "metadata": {},
   "outputs": [],
   "source": [
    "df_distribution = pd.DataFrame([get_label_statistics(label)], columns=labels)\n",
    "display(df_distribution)\n"
   ]
  },
  {
   "cell_type": "code",
   "execution_count": null,
   "id": "73bf1131",
   "metadata": {},
   "outputs": [],
   "source": [
    "myexplode = [0] * len(labels)\n",
    "myexplode[0] = 0.2\n",
    "patches, texts = plt.pie(np.array(distribution_count), explode = myexplode)\n",
    "# Sort Labels\n",
    "patches, labels, dummy =  zip(*sorted(zip(patches, labels, np.array(distribution_count)),key=lambda x: x[2],reverse=True))\n",
    "plt.legend(patches, labels, loc='center left', bbox_to_anchor=(1., 0.5),fontsize=8)\n",
    "plt.savefig('data/export/pairs_distribution.png', dpi=300)\n",
    "plt.show() "
   ]
  },
  {
   "cell_type": "markdown",
   "id": "a85c150a",
   "metadata": {},
   "source": [
    "# Write Folds to disk"
   ]
  },
  {
   "cell_type": "code",
   "execution_count": null,
   "id": "d8738d99",
   "metadata": {},
   "outputs": [],
   "source": [
    "export_path = \"data/export-umgekehrt/\""
   ]
  },
  {
   "cell_type": "code",
   "execution_count": null,
   "id": "3c6581c5",
   "metadata": {},
   "outputs": [],
   "source": [
    "def create_df(origin, target, label):\n",
    "    return pd.DataFrame(list(zip(origin, target, label)), columns=['origin', 'target', 'label'])\n",
    "\n",
    "def export_dfs(k_fold_origin, k_fold_target, k_fold_labels):\n",
    "    global export_path\n",
    "    for i in range(len(k_fold_origin)):\n",
    "        train_df = create_df(k_fold_origin[i][0], k_fold_target[i][0], k_fold_labels[i][0])\n",
    "        test_df = create_df(k_fold_origin[i][1], k_fold_target[i][1], k_fold_labels[i][1])\n",
    "        train_df.to_csv(f'{export_path}train.{i}.csv', index=False)\n",
    "        test_df.to_csv(f'{export_path}test.{i}.csv', index=False)"
   ]
  },
  {
   "cell_type": "code",
   "execution_count": null,
   "id": "c449e8fd",
   "metadata": {},
   "outputs": [],
   "source": [
    "export_dfs(k_fold_origin, k_fold_target, k_fold_labels)"
   ]
  },
  {
   "cell_type": "code",
   "execution_count": null,
   "id": "3f020e15",
   "metadata": {},
   "outputs": [],
   "source": []
  }
 ],
 "metadata": {
  "kernelspec": {
   "display_name": "Python 3",
   "language": "python",
   "name": "python3"
  },
  "language_info": {
   "codemirror_mode": {
    "name": "ipython",
    "version": 3
   },
   "file_extension": ".py",
   "mimetype": "text/x-python",
   "name": "python",
   "nbconvert_exporter": "python",
   "pygments_lexer": "ipython3",
   "version": "3.9.5"
  }
 },
 "nbformat": 4,
 "nbformat_minor": 5
}
