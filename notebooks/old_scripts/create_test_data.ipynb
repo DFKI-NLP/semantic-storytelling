{
 "cells": [
  {
   "cell_type": "markdown",
   "id": "changing-boring",
   "metadata": {},
   "source": [
    "# Install"
   ]
  },
  {
   "cell_type": "markdown",
   "id": "august-trauma",
   "metadata": {},
   "source": [
    "## Install Package to write CAS XMI files\n",
    "See https://github.com/dkpro/dkpro-cassis"
   ]
  },
  {
   "cell_type": "code",
   "execution_count": 1,
   "id": "recognized-plymouth",
   "metadata": {
    "scrolled": true
   },
   "outputs": [],
   "source": [
    "#pip install numpy dkpro-cassis \"scikit-learn==0.23.1\" datasets transformers[torch] ipywidgets"
   ]
  },
  {
   "cell_type": "code",
   "execution_count": 2,
   "id": "confirmed-dealing",
   "metadata": {},
   "outputs": [],
   "source": [
    "import torch\n",
    "import numpy as np\n",
    "import random\n",
    "import pandas as pd\n",
    "from IPython.display import display, HTML"
   ]
  },
  {
   "cell_type": "markdown",
   "id": "joint-fiber",
   "metadata": {},
   "source": [
    "# Import Project Data"
   ]
  },
  {
   "cell_type": "markdown",
   "id": "sunset-procurement",
   "metadata": {},
   "source": [
    "## Load CAS"
   ]
  },
  {
   "cell_type": "code",
   "execution_count": 3,
   "id": "dietary-serbia",
   "metadata": {},
   "outputs": [],
   "source": [
    "from cassis import *\n",
    "\n",
    "with open('./data/TypeSystem.xml', 'rb') as f:\n",
    "    typesystem = load_typesystem(f)\n",
    "\n",
    "cas = []\n",
    "# Test data\n",
    "with open('./data/test/test_data.xmi', 'rb') as f:\n",
    "   cas.append(load_cas_from_xmi(f, typesystem=typesystem))\n"
   ]
  },
  {
   "cell_type": "markdown",
   "id": "french-rebecca",
   "metadata": {},
   "source": [
    "## Get Labels"
   ]
  },
  {
   "cell_type": "code",
   "execution_count": 4,
   "id": "alternate-booth",
   "metadata": {},
   "outputs": [],
   "source": [
    "# Without Translation (not used)\n",
    "labels = [\"none\", \"attribution\", \"causal\", \"conditional\", \"contrast\", \"description\", \"equivalence\", \"fulfillment\", \"identity\", \"purpose\", \"summary\", \"temporal\"]"
   ]
  },
  {
   "cell_type": "markdown",
   "id": "offensive-skirt",
   "metadata": {},
   "source": [
    "## Get Annotations"
   ]
  },
  {
   "cell_type": "markdown",
   "id": "5fff65d4",
   "metadata": {},
   "source": [
    "### Set annotation Preference\n",
    "- Set whether to include news article headings or not\n",
    "- If news headings are included, define separator (heading1 + separator + sentence1)\n",
    "- Set whether to include timestamp of article\n",
    "- If timestamp is used, define separator"
   ]
  },
  {
   "cell_type": "code",
   "execution_count": 5,
   "id": "f9d8b20e",
   "metadata": {},
   "outputs": [],
   "source": [
    "annotation_with_news_title = True\n",
    "annotation_title_separator = \". \"\n",
    "annotation_with_timestamp = True\n",
    "annotation_timestamp_separator = \" \""
   ]
  },
  {
   "cell_type": "markdown",
   "id": "14a1f3f1",
   "metadata": {},
   "source": [
    "### Get Additional Doc Meta data (timestamp)"
   ]
  },
  {
   "cell_type": "code",
   "execution_count": 6,
   "id": "1cd44f59",
   "metadata": {},
   "outputs": [
    {
     "data": {
      "text/html": [
       "<div>\n",
       "<style scoped>\n",
       "    .dataframe tbody tr th:only-of-type {\n",
       "        vertical-align: middle;\n",
       "    }\n",
       "\n",
       "    .dataframe tbody tr th {\n",
       "        vertical-align: top;\n",
       "    }\n",
       "\n",
       "    .dataframe thead th {\n",
       "        text-align: right;\n",
       "    }\n",
       "</style>\n",
       "<table border=\"1\" class=\"dataframe\">\n",
       "  <thead>\n",
       "    <tr style=\"text-align: right;\">\n",
       "      <th></th>\n",
       "      <th>url</th>\n",
       "      <th>title</th>\n",
       "      <th>categories</th>\n",
       "      <th>timestamp</th>\n",
       "    </tr>\n",
       "    <tr>\n",
       "      <th>doc_id</th>\n",
       "      <th></th>\n",
       "      <th></th>\n",
       "      <th></th>\n",
       "      <th></th>\n",
       "    </tr>\n",
       "  </thead>\n",
       "  <tbody>\n",
       "    <tr>\n",
       "      <th>736</th>\n",
       "      <td>https://en.wikinews.org/wiki?curid=736</td>\n",
       "      <td>President of China lunches with Brazilian Pres...</td>\n",
       "      <td>Politics and conflicts,South America,Asia,Braz...</td>\n",
       "      <td>November 12, 2004</td>\n",
       "    </tr>\n",
       "    <tr>\n",
       "      <th>741</th>\n",
       "      <td>https://en.wikinews.org/wiki?curid=741</td>\n",
       "      <td>Palestinians to elect new president on January 9</td>\n",
       "      <td>Palestine,Elections,Mahmoud Abbas,Yasser Arafa...</td>\n",
       "      <td>November 14, 2004</td>\n",
       "    </tr>\n",
       "    <tr>\n",
       "      <th>743</th>\n",
       "      <td>https://en.wikinews.org/wiki?curid=743</td>\n",
       "      <td>Brazilian delegation returns from Arafat funeral</td>\n",
       "      <td>Palestine,Brazil,Politics and conflicts,Middle...</td>\n",
       "      <td>November 13, 2004</td>\n",
       "    </tr>\n",
       "    <tr>\n",
       "      <th>764</th>\n",
       "      <td>https://en.wikinews.org/wiki?curid=764</td>\n",
       "      <td>Hearing begins over David Hookes death</td>\n",
       "      <td>Australia,Cricket,Crime and law,Oceania</td>\n",
       "      <td>November 15, 2004</td>\n",
       "    </tr>\n",
       "    <tr>\n",
       "      <th>797</th>\n",
       "      <td>https://en.wikinews.org/wiki?curid=797</td>\n",
       "      <td>Brazilian soccer player's mother has been kidn...</td>\n",
       "      <td>South America,Brazil,Football (soccer),Crime a...</td>\n",
       "      <td>November 15, 2004</td>\n",
       "    </tr>\n",
       "    <tr>\n",
       "      <th>...</th>\n",
       "      <td>...</td>\n",
       "      <td>...</td>\n",
       "      <td>...</td>\n",
       "      <td>...</td>\n",
       "    </tr>\n",
       "    <tr>\n",
       "      <th>2909791</th>\n",
       "      <td>https://en.wikinews.org/wiki?curid=2909791</td>\n",
       "      <td>Mohsen Fakhrizadeh, leader of Iranian nuclear ...</td>\n",
       "      <td>Iran,Asia,Middle East,Nuclear technology,Obitu...</td>\n",
       "      <td>2020-11-30T21:59:34Z</td>\n",
       "    </tr>\n",
       "    <tr>\n",
       "      <th>2909805</th>\n",
       "      <td>https://en.wikinews.org/wiki?curid=2909805</td>\n",
       "      <td>Former US national security advisor Michael Fl...</td>\n",
       "      <td>United States,North America,Crime and law,Poli...</td>\n",
       "      <td>2020-11-28T22:49:40Z</td>\n",
       "    </tr>\n",
       "    <tr>\n",
       "      <th>2909818</th>\n",
       "      <td>https://en.wikinews.org/wiki?curid=2909818</td>\n",
       "      <td>Wikinews interviews Sandra Jephcott, Sustainab...</td>\n",
       "      <td>Australia,Elections,Climate change,COVID-19,Qu...</td>\n",
       "      <td>2020-11-27T15:33:59Z</td>\n",
       "    </tr>\n",
       "    <tr>\n",
       "      <th>2909884</th>\n",
       "      <td>https://en.wikinews.org/wiki?curid=2909884</td>\n",
       "      <td>Wikinews interviews Craig Farquharson, Liberal...</td>\n",
       "      <td>Australia,Elections,Queensland,Democracy,Polit...</td>\n",
       "      <td>November 27, 2020</td>\n",
       "    </tr>\n",
       "    <tr>\n",
       "      <th>2910010</th>\n",
       "      <td>https://en.wikinews.org/wiki?curid=2910010</td>\n",
       "      <td>Toddler shot in Ontario</td>\n",
       "      <td>Ontario</td>\n",
       "      <td>2020-11-28T23:21:13Z</td>\n",
       "    </tr>\n",
       "  </tbody>\n",
       "</table>\n",
       "<p>16536 rows × 4 columns</p>\n",
       "</div>"
      ],
      "text/plain": [
       "                                                url  \\\n",
       "doc_id                                                \n",
       "736          https://en.wikinews.org/wiki?curid=736   \n",
       "741          https://en.wikinews.org/wiki?curid=741   \n",
       "743          https://en.wikinews.org/wiki?curid=743   \n",
       "764          https://en.wikinews.org/wiki?curid=764   \n",
       "797          https://en.wikinews.org/wiki?curid=797   \n",
       "...                                             ...   \n",
       "2909791  https://en.wikinews.org/wiki?curid=2909791   \n",
       "2909805  https://en.wikinews.org/wiki?curid=2909805   \n",
       "2909818  https://en.wikinews.org/wiki?curid=2909818   \n",
       "2909884  https://en.wikinews.org/wiki?curid=2909884   \n",
       "2910010  https://en.wikinews.org/wiki?curid=2910010   \n",
       "\n",
       "                                                     title  \\\n",
       "doc_id                                                       \n",
       "736      President of China lunches with Brazilian Pres...   \n",
       "741       Palestinians to elect new president on January 9   \n",
       "743       Brazilian delegation returns from Arafat funeral   \n",
       "764                 Hearing begins over David Hookes death   \n",
       "797      Brazilian soccer player's mother has been kidn...   \n",
       "...                                                    ...   \n",
       "2909791  Mohsen Fakhrizadeh, leader of Iranian nuclear ...   \n",
       "2909805  Former US national security advisor Michael Fl...   \n",
       "2909818  Wikinews interviews Sandra Jephcott, Sustainab...   \n",
       "2909884  Wikinews interviews Craig Farquharson, Liberal...   \n",
       "2910010                            Toddler shot in Ontario   \n",
       "\n",
       "                                                categories  \\\n",
       "doc_id                                                       \n",
       "736      Politics and conflicts,South America,Asia,Braz...   \n",
       "741      Palestine,Elections,Mahmoud Abbas,Yasser Arafa...   \n",
       "743      Palestine,Brazil,Politics and conflicts,Middle...   \n",
       "764                Australia,Cricket,Crime and law,Oceania   \n",
       "797      South America,Brazil,Football (soccer),Crime a...   \n",
       "...                                                    ...   \n",
       "2909791  Iran,Asia,Middle East,Nuclear technology,Obitu...   \n",
       "2909805  United States,North America,Crime and law,Poli...   \n",
       "2909818  Australia,Elections,Climate change,COVID-19,Qu...   \n",
       "2909884  Australia,Elections,Queensland,Democracy,Polit...   \n",
       "2910010                                            Ontario   \n",
       "\n",
       "                    timestamp  \n",
       "doc_id                         \n",
       "736         November 12, 2004  \n",
       "741         November 14, 2004  \n",
       "743         November 13, 2004  \n",
       "764         November 15, 2004  \n",
       "797         November 15, 2004  \n",
       "...                       ...  \n",
       "2909791  2020-11-30T21:59:34Z  \n",
       "2909805  2020-11-28T22:49:40Z  \n",
       "2909818  2020-11-27T15:33:59Z  \n",
       "2909884     November 27, 2020  \n",
       "2910010  2020-11-28T23:21:13Z  \n",
       "\n",
       "[16536 rows x 4 columns]"
      ]
     },
     "metadata": {},
     "output_type": "display_data"
    }
   ],
   "source": [
    "if annotation_with_timestamp:\n",
    "    doc_df = pd.read_csv(\"./malte-candidates/meta-output.docs.tsv\", sep=\"\\t\")\n",
    "    doc_df = doc_df.set_index(\"doc_id\")\n",
    "    display(doc_df)"
   ]
  },
  {
   "cell_type": "code",
   "execution_count": 7,
   "id": "bb017d68",
   "metadata": {},
   "outputs": [],
   "source": [
    "#doc_df.loc[741]"
   ]
  },
  {
   "cell_type": "code",
   "execution_count": 8,
   "id": "bb7dbfb8",
   "metadata": {},
   "outputs": [],
   "source": [
    "def get_timestamp_from_doc(doc_id):\n",
    "    global doc_df\n",
    "    try: \n",
    "        item = doc_df.loc[int(doc_id)]\n",
    "        return item.timestamp\n",
    "    except (TypeError, ValueError, KeyError) as e:\n",
    "        print(f\"Cannot find Doc #{doc_id}: {e}\")\n",
    "        return \"\""
   ]
  },
  {
   "cell_type": "markdown",
   "id": "4cee9de3",
   "metadata": {},
   "source": [
    "### Read Annotations"
   ]
  },
  {
   "cell_type": "code",
   "execution_count": 9,
   "id": "swedish-display",
   "metadata": {},
   "outputs": [],
   "source": [
    "def read_annotations(tmp_cas, controlPairList = []):\n",
    "    global labels, annotation_with_news_title, annotation_title_separator, annotation_with_timestamp, annotation_timestamp_separator\n",
    "    origin = []\n",
    "    target = []\n",
    "    label = []\n",
    "    for sentence in tmp_cas.select('webanno.custom.Sentence'):\n",
    "        for token in tmp_cas.select_covered('webanno.custom.SentenceRelation', sentence):\n",
    "            # Only use annotated data\n",
    "            if token.label != \"unset\":\n",
    "                # Check for redundant pairs\n",
    "                uid = f\"g{token.Governor.sent_id}_d_{token.Dependent.sent_id}\"\n",
    "                if uid not in controlPairList:\n",
    "                    origin_string = \"\"\n",
    "                    target_string = \"\"\n",
    "                    label.append(labels.index(token.label))\n",
    "                    # Also add meta data: title\n",
    "                    if annotation_with_news_title:\n",
    "                        origin_string += token.Governor.title + annotation_title_separator\n",
    "                        target_string += token.Dependent.title + annotation_title_separator\n",
    "                    # Add Sentences\n",
    "                    origin_string += token.Governor.get_covered_text()\n",
    "                    target_string += token.Dependent.get_covered_text()\n",
    "                    # Also add meta data: timestamp\n",
    "                    if annotation_with_timestamp:\n",
    "                        origin_string += annotation_timestamp_separator + get_timestamp_from_doc(token.Governor.doc_id)\n",
    "                        target_string += annotation_timestamp_separator + get_timestamp_from_doc(token.Dependent.doc_id)\n",
    "                    # Add String to list\n",
    "                    origin.append(origin_string)\n",
    "                    target.append(target_string)\n",
    "                    controlPairList.append(uid)\n",
    "                    #print('Dependent: ' + token.Dependent.get_*covered_text())\n",
    "                    #print('Governor: ' + token.Governor.get_covered_text())\n",
    "                    #print('Label: ' + token.label)\n",
    "                    #print('')\n",
    "    return origin, target, label, controlPairList\n"
   ]
  },
  {
   "cell_type": "markdown",
   "id": "expanded-flash",
   "metadata": {},
   "source": [
    "## Combine CAS Systems"
   ]
  },
  {
   "cell_type": "code",
   "execution_count": 10,
   "id": "packed-proposal",
   "metadata": {},
   "outputs": [],
   "source": [
    "def combined_cas_read(cas_list):\n",
    "    origin = []\n",
    "    target = []\n",
    "    label = []\n",
    "    # control list of pairs to not add redundant pairs\n",
    "    controlPairList = []\n",
    "    for cas in cas_list:\n",
    "        origin_tmp, target_tmp, label_tmp, controlPairList_tmp = read_annotations(cas, controlPairList)\n",
    "        origin += origin_tmp\n",
    "        target += target_tmp\n",
    "        label += label_tmp\n",
    "        controlPairList += controlPairList_tmp\n",
    "    return origin, target, label\n",
    "\n",
    "origin, target, label = combined_cas_read(cas)"
   ]
  },
  {
   "cell_type": "markdown",
   "id": "5cf32517",
   "metadata": {},
   "source": [
    "## Print Examples"
   ]
  },
  {
   "cell_type": "code",
   "execution_count": 11,
   "id": "efbd918e",
   "metadata": {
    "scrolled": false
   },
   "outputs": [],
   "source": [
    "#train_encodings"
   ]
  },
  {
   "cell_type": "code",
   "execution_count": 12,
   "id": "bbe4fd48",
   "metadata": {},
   "outputs": [],
   "source": [
    "def show_random_elements(origin_list, target_list, label_list, num_examples=10):\n",
    "    global labels\n",
    "    assert num_examples <= len(origin_list), \"Can't pick more elements than there are in the dataset.\"\n",
    "    picks = []\n",
    "    for _ in range(num_examples):\n",
    "        pick = random.randint(0, len(origin_list)-1)\n",
    "        while pick in picks:\n",
    "            pick = random.randint(0, len(origin_list)-1)\n",
    "        picks.append(pick)\n",
    "    data = []\n",
    "    for n in picks:\n",
    "        data.append([n, origin_list[n], labels[label_list[n]], target_list[n]])\n",
    "    df = pd.DataFrame(data, columns=['index', 'Origin', 'Label', 'Target'])\n",
    "    display(HTML(df.to_html()))"
   ]
  },
  {
   "cell_type": "code",
   "execution_count": 13,
   "id": "3cb93df6",
   "metadata": {},
   "outputs": [
    {
     "data": {
      "text/html": [
       "<table border=\"1\" class=\"dataframe\">\n",
       "  <thead>\n",
       "    <tr style=\"text-align: right;\">\n",
       "      <th></th>\n",
       "      <th>index</th>\n",
       "      <th>Origin</th>\n",
       "      <th>Label</th>\n",
       "      <th>Target</th>\n",
       "    </tr>\n",
       "  </thead>\n",
       "  <tbody>\n",
       "    <tr>\n",
       "      <th>0</th>\n",
       "      <td>234</td>\n",
       "      <td>2007 Rugby World Cup: Georgia claim first World Cup victory. Merab Kvirikashvili opened the scoring with two penalties while Akvsenti Giorgadze scored the first try just before half time bringing the score to 13-0. September 24, 2007</td>\n",
       "      <td>temporal</td>\n",
       "      <td>2007 Rugby World Cup: New Zealand 18 - 20 France. New Zealand led 13-3 at half time, after Dan Carter kicked two penalties and Luke McAlister scored a try. October 6, 2007</td>\n",
       "    </tr>\n",
       "    <tr>\n",
       "      <th>1</th>\n",
       "      <td>188</td>\n",
       "      <td>Sri Lankan government withdraws truce with Tamil rebels. There have be many clashes between the government and the rebels  since mid-2006. January 2 2008</td>\n",
       "      <td>none</td>\n",
       "      <td>Colombo land mine explosion kills seven. In the past few days, there have been fierce hostilities between government forces and Tamil Tigers in the north and the east of the country. August 14, 2006</td>\n",
       "    </tr>\n",
       "    <tr>\n",
       "      <th>2</th>\n",
       "      <td>89</td>\n",
       "      <td>John Reed on Orwell, God, self-destruction and the future of writing. 'DS:  What about this theory that the drop in advertising for the print media, even though it's going to go through a period of growing pains, in the end might actually be better for the literary press like the Brooklyn Rail, because people who have keys to funding will see more of a need to do grants, which will allow them to be more experimental as opposed to worrying about, Are we going to offend our advertisers? December 3, 2002</td>\n",
       "      <td>none</td>\n",
       "      <td>British government advises against non-essential travel to Kenya. The travel warning recommends that those already in Kenya stay indoors and exercise extreme caution and seek advice locally either from their tour operator or the local authorities if they want to travel. January 3, 2008</td>\n",
       "    </tr>\n",
       "    <tr>\n",
       "      <th>3</th>\n",
       "      <td>184</td>\n",
       "      <td>San Diego ends Colts' bid for perfect season. The Colts attempted a comeback but Manning was intercepted in the Indianapolis endzone, bringing to an end the game and the Colts' 13-game winning streak. December 18, 2005</td>\n",
       "      <td>none</td>\n",
       "      <td>Oregon running back LeGarrette Blount's college football career ends with a punch. The volatile Blount, coming off a 1,000+ yard season in which he broke a school record for rushing touchdowns, had struggled in several 2008 games, including the encounter with the Broncos. September 4, 2009</td>\n",
       "    </tr>\n",
       "    <tr>\n",
       "      <th>4</th>\n",
       "      <td>28</td>\n",
       "      <td>Japanese adults rank high in literacy and numeracy in OECD survey. Yesterday, the Organisation for Economic Co-operation and Development (OECD), a 34 member international economic organization founded in 1961 that traces its origins back to the World War II-era , published results on the state of adult skills in 24 countries, most of them European. 2013-11-17T02:39:22Z</td>\n",
       "      <td>none</td>\n",
       "      <td>OECD releases report on New Zealand's environmental performance. The Organisation for Economic Co-operation and Development (OECD) has released a report on the environmental performance of the New Zealand Government.  April 5, 2007</td>\n",
       "    </tr>\n",
       "    <tr>\n",
       "      <th>5</th>\n",
       "      <td>186</td>\n",
       "      <td>Steelers, Cardinals win championship games to advance to Super Bowl XLIII. Early in the game the Steelers defense dominated the field, forcing him to only complete 3 out of 14 pass attempts and end the half with a lowly 9.8 quarterback rating and his team losing 13 to 7. January 19, 2009</td>\n",
       "      <td>none</td>\n",
       "      <td>San Diego ends Colts' bid for perfect season. The Colts attempted a comeback but Manning was intercepted in the Indianapolis endzone, bringing to an end the game and the Colts' 13-game winning streak. December 18, 2005</td>\n",
       "    </tr>\n",
       "    <tr>\n",
       "      <th>6</th>\n",
       "      <td>99</td>\n",
       "      <td>Bloomberg, Warren end US presidential campaigns following Super Tuesday. In the aftermath of Super Tuesday, yesterday and on Wednesday, two candidates, Senator Elizabeth Warren of Massachusetts and Michael Bloomberg, formerly the mayor of New York City, ended their campaigns. 2020-04-16T17:30:34Z</td>\n",
       "      <td>none</td>\n",
       "      <td>Activist ejected from Virginia senator’s re-election rally. A mid-term re-election campaign rally held Tuesday morning by Virginia Senator George Allen at the Charlottesville Omni Hotel turned ugly after a University of Virginia law student, Daily Kos contributor and blogger, Mike Stark, was man-handled by Allen staffers in the hotel lobby after he asked the Senator about his 1970's divorce and arrest record.  October 31, 2006</td>\n",
       "    </tr>\n",
       "    <tr>\n",
       "      <th>7</th>\n",
       "      <td>210</td>\n",
       "      <td>US Senate says no to pullout of US troops from Iraq. Independent Democrat senator from Connecticut, who caucuses with Democrats, voted with Republicans against the motion, as he has done with all Iraq war legislation this year. July 18, 2007</td>\n",
       "      <td>none</td>\n",
       "      <td>Tea Party-endorsed Christine O'Donnell wins Delaware Senate primary election. Mike Castle in a Republican primary election for U.S. Senator from Delaware, voting precinct|precincts counted, O'Donnell, who has received the endorsement of the Tea Party movement, led Representative Castle by 30561 votes to 27021, 53.1% to 46.9%. September 14, 2010</td>\n",
       "    </tr>\n",
       "    <tr>\n",
       "      <th>8</th>\n",
       "      <td>125</td>\n",
       "      <td>Kimi Räikkönen wins 2009 Belgian Grand Prix. Kimi qualified 6th, but jumped to second after a multiple crash in the first corner involving Jenson Button (Brawn) and Lewis Hamilton (McLaren) collided with the rookies Romain Grosjean and Jaime Alguersuari and all four drivers were out of the race. 30 Aug 2009</td>\n",
       "      <td>none</td>\n",
       "      <td>Formula 1: Barrichello and Alonso top timesheets at European GP Friday Practice. Rubens Barrichello was out to prove that his speed in the morning session was not a one-off, and posted the third fastest time overall (1:40.209), however his team mate Jenson Button was quicker this time out (1:40.178). August 21, 2009</td>\n",
       "    </tr>\n",
       "    <tr>\n",
       "      <th>9</th>\n",
       "      <td>0</td>\n",
       "      <td>Mugabe is 'prepared to fight' if Zimbabwe elects opposition. Zimbabwean President Robert Mugabe, who is slated to face opposition leader Morgan Tsvangirai in a run-off election on June 27, said today that the opposition would never govern Zimbabwe as long as he is alive, vowing to go to war if the Movement for Democratic Change (MDC) wins the election. June 14, 2008</td>\n",
       "      <td>equivalence</td>\n",
       "      <td>Mugabe claims 'sweeping victory' of Zimbawe election. A file photograph of MugabeRobert Mugabe, the Zimbabwean president who has recently been widely criticized by world leaders, has claimed the current results show that he will have a 'sweeping victory' in the unopposed presidential run-off elections. June 29, 2008</td>\n",
       "    </tr>\n",
       "  </tbody>\n",
       "</table>"
      ],
      "text/plain": [
       "<IPython.core.display.HTML object>"
      ]
     },
     "metadata": {},
     "output_type": "display_data"
    }
   ],
   "source": [
    "show_random_elements(origin, target, label)"
   ]
  },
  {
   "cell_type": "markdown",
   "id": "a85c150a",
   "metadata": {},
   "source": [
    "# Write Folds to disk"
   ]
  },
  {
   "cell_type": "code",
   "execution_count": 14,
   "id": "d8738d99",
   "metadata": {},
   "outputs": [],
   "source": [
    "export_path = \"data/test/\""
   ]
  },
  {
   "cell_type": "code",
   "execution_count": 15,
   "id": "3c6581c5",
   "metadata": {},
   "outputs": [],
   "source": [
    "def create_df(origin, target, label):\n",
    "    return pd.DataFrame(list(zip(origin, target, label)), columns=['origin', 'target', 'label'])\n",
    "\n",
    "df = create_df(origin, target, label)\n",
    "df.to_csv(f'{export_path}data.csv', index=False)"
   ]
  },
  {
   "cell_type": "code",
   "execution_count": null,
   "id": "c449e8fd",
   "metadata": {},
   "outputs": [],
   "source": []
  },
  {
   "cell_type": "code",
   "execution_count": null,
   "id": "3f020e15",
   "metadata": {},
   "outputs": [],
   "source": []
  }
 ],
 "metadata": {
  "kernelspec": {
   "display_name": "Python 3",
   "language": "python",
   "name": "python3"
  },
  "language_info": {
   "codemirror_mode": {
    "name": "ipython",
    "version": 3
   },
   "file_extension": ".py",
   "mimetype": "text/x-python",
   "name": "python",
   "nbconvert_exporter": "python",
   "pygments_lexer": "ipython3",
   "version": "3.9.5"
  }
 },
 "nbformat": 4,
 "nbformat_minor": 5
}
