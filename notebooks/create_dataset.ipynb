{
 "cells": [
  {
   "cell_type": "markdown",
   "id": "changing-boring",
   "metadata": {},
   "source": [
    "# Text Segment Input Strategies\n",
    "Different Input Strategies used for Language Model Input. Input of Language Model is pair ´(A,B)´ with ´A´ and ´B´ of type:\n",
    "1. Sentence (S)\n",
    "2. Title + Sentence (TS)\n",
    "3. Title + Sentence + Date (TSD)\n",
    "4. Sentence + Title + Date (STD)\n",
    "\n",
    "*Sentence* is the extracted Sentence from News Article, *Title* is the News Article Title and *Date* is the publishing date of the article"
   ]
  },
  {
   "cell_type": "markdown",
   "id": "7a1e7295",
   "metadata": {},
   "source": [
    "## Set Input Strategy"
   ]
  },
  {
   "cell_type": "code",
   "execution_count": 28,
   "id": "1b4fa79b",
   "metadata": {},
   "outputs": [],
   "source": [
    "input_strategy = 4"
   ]
  },
  {
   "cell_type": "markdown",
   "id": "5fff65d4",
   "metadata": {},
   "source": [
    "### Set annotation Preference in Detail\n",
    "- Set whether to include news article headings or not\n",
    "- If news headings are included, define separator (heading1 + separator + sentence1)\n",
    "- Set whether to include timestamp of article\n",
    "- If timestamp is used, define separator\n",
    "- Set whether Title or Sentence should be at first position"
   ]
  },
  {
   "cell_type": "code",
   "execution_count": 29,
   "id": "f9d8b20e",
   "metadata": {},
   "outputs": [],
   "source": [
    "# Strategy Presets\n",
    "if input_strategy > 1:\n",
    "    annotation_with_news_title = True\n",
    "else:\n",
    "    annotation_with_news_title = False\n",
    "if input_strategy > 2:\n",
    "    annotation_with_timestamp = True\n",
    "else:\n",
    "    annotation_with_timestamp = False\n",
    "if input_strategy > 3:\n",
    "    sentence_first = True\n",
    "else:\n",
    "    sentence_first = False\n",
    "\n",
    "annotation_title_separator = \". \"\n",
    "annotation_timestamp_separator = \" \""
   ]
  },
  {
   "cell_type": "markdown",
   "id": "759afc87",
   "metadata": {},
   "source": [
    "# Label Settings"
   ]
  },
  {
   "cell_type": "code",
   "execution_count": 30,
   "id": "170f5923",
   "metadata": {},
   "outputs": [],
   "source": [
    "# Labels definition - Without \"Translation\" (not used)\n",
    "labels = [\"none\", \"attribution\", \"causal\", \"conditional\", \"contrast\", \"description\", \"equivalence\", \"fulfillment\", \"identity\", \"purpose\", \"summary\", \"temporal\"]"
   ]
  },
  {
   "cell_type": "code",
   "execution_count": 31,
   "id": "f3267591",
   "metadata": {},
   "outputs": [],
   "source": [
    "# Use subset of labels (defined below)\n",
    "subset_labels = False"
   ]
  },
  {
   "cell_type": "code",
   "execution_count": 32,
   "id": "1006d3ff",
   "metadata": {},
   "outputs": [],
   "source": [
    "if subset_labels:\n",
    "    labels = [\"none\", \"causal\", \"contrast\", \"equivalence\", \"identity\", \"temporal\", \"others\"]\n",
    "\n",
    "# get Index of labels: if not found, take last label index (\"others\")\n",
    "def index_of_label(val):\n",
    "    global labels\n",
    "    try:\n",
    "        return labels.index(val)\n",
    "    except ValueError:\n",
    "        return len(labels) - 1"
   ]
  },
  {
   "cell_type": "markdown",
   "id": "french-rebecca",
   "metadata": {},
   "source": [
    "# General Settings"
   ]
  },
  {
   "cell_type": "code",
   "execution_count": 33,
   "id": "d8738d99",
   "metadata": {},
   "outputs": [],
   "source": [
    "import_path = 'data/inception'\n",
    "export_path = f'data/export/{input_strategy}/'\n",
    "\n",
    "\n",
    "if subset_labels:\n",
    "    export_path = f'data/export_subset/{input_strategy}/'"
   ]
  },
  {
   "cell_type": "code",
   "execution_count": 34,
   "id": "01b86b03",
   "metadata": {},
   "outputs": [],
   "source": [
    "pair_matching_types = [\"Random\", \"NSP\", \"Similarity\"]"
   ]
  },
  {
   "cell_type": "code",
   "execution_count": 35,
   "id": "alternate-booth",
   "metadata": {},
   "outputs": [],
   "source": [
    "num_folds = 4"
   ]
  },
  {
   "cell_type": "markdown",
   "id": "c1a24ffa",
   "metadata": {},
   "source": [
    "# Import Packages"
   ]
  },
  {
   "cell_type": "markdown",
   "id": "august-trauma",
   "metadata": {},
   "source": [
    "## Install Package to write CAS XMI files\n",
    "See https://github.com/dkpro/dkpro-cassis"
   ]
  },
  {
   "cell_type": "code",
   "execution_count": 36,
   "id": "confirmed-dealing",
   "metadata": {},
   "outputs": [],
   "source": [
    "import torch\n",
    "import numpy as np\n",
    "import random\n",
    "import pandas as pd\n",
    "import matplotlib.pyplot as plt\n",
    "from IPython.display import display, HTML\n",
    "import glob\n",
    "from pathlib import Path"
   ]
  },
  {
   "cell_type": "code",
   "execution_count": 37,
   "id": "71e893c6",
   "metadata": {},
   "outputs": [],
   "source": [
    "Path(export_path).mkdir(parents=True, exist_ok=True)"
   ]
  },
  {
   "cell_type": "markdown",
   "id": "joint-fiber",
   "metadata": {},
   "source": [
    "# Import Project Data"
   ]
  },
  {
   "cell_type": "markdown",
   "id": "sunset-procurement",
   "metadata": {},
   "source": [
    "## Load CAS"
   ]
  },
  {
   "cell_type": "code",
   "execution_count": 38,
   "id": "dietary-serbia",
   "metadata": {},
   "outputs": [],
   "source": [
    "from cassis import *\n",
    "\n",
    "with open(f'{import_path}/TypeSystem.xml', 'rb') as f:\n",
    "    typesystem = load_typesystem(f)\n",
    "\n",
    "# Store all CAS \n",
    "cas = []\n",
    "# Import all INCEpTION Export Files\n",
    "all_files = glob.glob(import_path + \"/*.xmi\")\n",
    "\n",
    "# log prematching pairs type (0: random, 1: nsp, 2: similarity) \n",
    "#   --> export files need to include one of the three types in name\n",
    "#   only needed for statistic output\n",
    "cas_types = []\n",
    "# Random, NSP, Similarity\n",
    "pair_matching_count = [0] * len(pair_matching_types)\n",
    "\n",
    "for filename in all_files:\n",
    "    with open(filename, 'rb') as f:\n",
    "        cas.append(load_cas_from_xmi(f, typesystem=typesystem))\n",
    "        # Log cas type / prematching pair type\n",
    "        if(\"random\" in filename):\n",
    "            cas_types.append(0)\n",
    "        elif(\"nsp\" in filename):\n",
    "            cas_types.append(1) \n",
    "        else:\n",
    "            cas_types.append(2) \n"
   ]
  },
  {
   "cell_type": "markdown",
   "id": "offensive-skirt",
   "metadata": {},
   "source": [
    "## Get Annotations"
   ]
  },
  {
   "cell_type": "markdown",
   "id": "14a1f3f1",
   "metadata": {},
   "source": [
    "### Get Additional Doc Meta data (timestamp)"
   ]
  },
  {
   "cell_type": "code",
   "execution_count": 39,
   "id": "1cd44f59",
   "metadata": {},
   "outputs": [
    {
     "data": {
      "text/html": [
       "<div>\n",
       "<style scoped>\n",
       "    .dataframe tbody tr th:only-of-type {\n",
       "        vertical-align: middle;\n",
       "    }\n",
       "\n",
       "    .dataframe tbody tr th {\n",
       "        vertical-align: top;\n",
       "    }\n",
       "\n",
       "    .dataframe thead th {\n",
       "        text-align: right;\n",
       "    }\n",
       "</style>\n",
       "<table border=\"1\" class=\"dataframe\">\n",
       "  <thead>\n",
       "    <tr style=\"text-align: right;\">\n",
       "      <th></th>\n",
       "      <th>url</th>\n",
       "      <th>title</th>\n",
       "      <th>categories</th>\n",
       "      <th>timestamp</th>\n",
       "    </tr>\n",
       "    <tr>\n",
       "      <th>doc_id</th>\n",
       "      <th></th>\n",
       "      <th></th>\n",
       "      <th></th>\n",
       "      <th></th>\n",
       "    </tr>\n",
       "  </thead>\n",
       "  <tbody>\n",
       "    <tr>\n",
       "      <th>736</th>\n",
       "      <td>https://en.wikinews.org/wiki?curid=736</td>\n",
       "      <td>President of China lunches with Brazilian Pres...</td>\n",
       "      <td>Politics and conflicts,South America,Asia,Braz...</td>\n",
       "      <td>November 12, 2004</td>\n",
       "    </tr>\n",
       "    <tr>\n",
       "      <th>741</th>\n",
       "      <td>https://en.wikinews.org/wiki?curid=741</td>\n",
       "      <td>Palestinians to elect new president on January 9</td>\n",
       "      <td>Palestine,Elections,Mahmoud Abbas,Yasser Arafa...</td>\n",
       "      <td>November 14, 2004</td>\n",
       "    </tr>\n",
       "    <tr>\n",
       "      <th>743</th>\n",
       "      <td>https://en.wikinews.org/wiki?curid=743</td>\n",
       "      <td>Brazilian delegation returns from Arafat funeral</td>\n",
       "      <td>Palestine,Brazil,Politics and conflicts,Middle...</td>\n",
       "      <td>November 13, 2004</td>\n",
       "    </tr>\n",
       "    <tr>\n",
       "      <th>764</th>\n",
       "      <td>https://en.wikinews.org/wiki?curid=764</td>\n",
       "      <td>Hearing begins over David Hookes death</td>\n",
       "      <td>Australia,Cricket,Crime and law,Oceania</td>\n",
       "      <td>November 15, 2004</td>\n",
       "    </tr>\n",
       "    <tr>\n",
       "      <th>797</th>\n",
       "      <td>https://en.wikinews.org/wiki?curid=797</td>\n",
       "      <td>Brazilian soccer player's mother has been kidn...</td>\n",
       "      <td>South America,Brazil,Football (soccer),Crime a...</td>\n",
       "      <td>November 15, 2004</td>\n",
       "    </tr>\n",
       "    <tr>\n",
       "      <th>...</th>\n",
       "      <td>...</td>\n",
       "      <td>...</td>\n",
       "      <td>...</td>\n",
       "      <td>...</td>\n",
       "    </tr>\n",
       "    <tr>\n",
       "      <th>2909791</th>\n",
       "      <td>https://en.wikinews.org/wiki?curid=2909791</td>\n",
       "      <td>Mohsen Fakhrizadeh, leader of Iranian nuclear ...</td>\n",
       "      <td>Iran,Asia,Middle East,Nuclear technology,Obitu...</td>\n",
       "      <td>2020-11-30T21:59:34Z</td>\n",
       "    </tr>\n",
       "    <tr>\n",
       "      <th>2909805</th>\n",
       "      <td>https://en.wikinews.org/wiki?curid=2909805</td>\n",
       "      <td>Former US national security advisor Michael Fl...</td>\n",
       "      <td>United States,North America,Crime and law,Poli...</td>\n",
       "      <td>2020-11-28T22:49:40Z</td>\n",
       "    </tr>\n",
       "    <tr>\n",
       "      <th>2909818</th>\n",
       "      <td>https://en.wikinews.org/wiki?curid=2909818</td>\n",
       "      <td>Wikinews interviews Sandra Jephcott, Sustainab...</td>\n",
       "      <td>Australia,Elections,Climate change,COVID-19,Qu...</td>\n",
       "      <td>2020-11-27T15:33:59Z</td>\n",
       "    </tr>\n",
       "    <tr>\n",
       "      <th>2909884</th>\n",
       "      <td>https://en.wikinews.org/wiki?curid=2909884</td>\n",
       "      <td>Wikinews interviews Craig Farquharson, Liberal...</td>\n",
       "      <td>Australia,Elections,Queensland,Democracy,Polit...</td>\n",
       "      <td>November 27, 2020</td>\n",
       "    </tr>\n",
       "    <tr>\n",
       "      <th>2910010</th>\n",
       "      <td>https://en.wikinews.org/wiki?curid=2910010</td>\n",
       "      <td>Toddler shot in Ontario</td>\n",
       "      <td>Ontario</td>\n",
       "      <td>2020-11-28T23:21:13Z</td>\n",
       "    </tr>\n",
       "  </tbody>\n",
       "</table>\n",
       "<p>16536 rows × 4 columns</p>\n",
       "</div>"
      ],
      "text/plain": [
       "                                                url  \\\n",
       "doc_id                                                \n",
       "736          https://en.wikinews.org/wiki?curid=736   \n",
       "741          https://en.wikinews.org/wiki?curid=741   \n",
       "743          https://en.wikinews.org/wiki?curid=743   \n",
       "764          https://en.wikinews.org/wiki?curid=764   \n",
       "797          https://en.wikinews.org/wiki?curid=797   \n",
       "...                                             ...   \n",
       "2909791  https://en.wikinews.org/wiki?curid=2909791   \n",
       "2909805  https://en.wikinews.org/wiki?curid=2909805   \n",
       "2909818  https://en.wikinews.org/wiki?curid=2909818   \n",
       "2909884  https://en.wikinews.org/wiki?curid=2909884   \n",
       "2910010  https://en.wikinews.org/wiki?curid=2910010   \n",
       "\n",
       "                                                     title  \\\n",
       "doc_id                                                       \n",
       "736      President of China lunches with Brazilian Pres...   \n",
       "741       Palestinians to elect new president on January 9   \n",
       "743       Brazilian delegation returns from Arafat funeral   \n",
       "764                 Hearing begins over David Hookes death   \n",
       "797      Brazilian soccer player's mother has been kidn...   \n",
       "...                                                    ...   \n",
       "2909791  Mohsen Fakhrizadeh, leader of Iranian nuclear ...   \n",
       "2909805  Former US national security advisor Michael Fl...   \n",
       "2909818  Wikinews interviews Sandra Jephcott, Sustainab...   \n",
       "2909884  Wikinews interviews Craig Farquharson, Liberal...   \n",
       "2910010                            Toddler shot in Ontario   \n",
       "\n",
       "                                                categories  \\\n",
       "doc_id                                                       \n",
       "736      Politics and conflicts,South America,Asia,Braz...   \n",
       "741      Palestine,Elections,Mahmoud Abbas,Yasser Arafa...   \n",
       "743      Palestine,Brazil,Politics and conflicts,Middle...   \n",
       "764                Australia,Cricket,Crime and law,Oceania   \n",
       "797      South America,Brazil,Football (soccer),Crime a...   \n",
       "...                                                    ...   \n",
       "2909791  Iran,Asia,Middle East,Nuclear technology,Obitu...   \n",
       "2909805  United States,North America,Crime and law,Poli...   \n",
       "2909818  Australia,Elections,Climate change,COVID-19,Qu...   \n",
       "2909884  Australia,Elections,Queensland,Democracy,Polit...   \n",
       "2910010                                            Ontario   \n",
       "\n",
       "                    timestamp  \n",
       "doc_id                         \n",
       "736         November 12, 2004  \n",
       "741         November 14, 2004  \n",
       "743         November 13, 2004  \n",
       "764         November 15, 2004  \n",
       "797         November 15, 2004  \n",
       "...                       ...  \n",
       "2909791  2020-11-30T21:59:34Z  \n",
       "2909805  2020-11-28T22:49:40Z  \n",
       "2909818  2020-11-27T15:33:59Z  \n",
       "2909884     November 27, 2020  \n",
       "2910010  2020-11-28T23:21:13Z  \n",
       "\n",
       "[16536 rows x 4 columns]"
      ]
     },
     "metadata": {},
     "output_type": "display_data"
    }
   ],
   "source": [
    "if annotation_with_timestamp:\n",
    "    doc_df = pd.read_csv(\"./candidates/meta-output.docs.tsv\", sep=\"\\t\")\n",
    "    doc_df = doc_df.set_index(\"doc_id\")\n",
    "    display(doc_df)"
   ]
  },
  {
   "cell_type": "code",
   "execution_count": 40,
   "id": "bb017d68",
   "metadata": {},
   "outputs": [],
   "source": [
    "#doc_df.loc[741]"
   ]
  },
  {
   "cell_type": "code",
   "execution_count": 41,
   "id": "bb7dbfb8",
   "metadata": {},
   "outputs": [],
   "source": [
    "def get_timestamp_from_doc(doc_id):\n",
    "    global doc_df\n",
    "    try: \n",
    "        item = doc_df.loc[int(doc_id)]\n",
    "        return item.timestamp\n",
    "    except (TypeError, ValueError, KeyError) as e:\n",
    "        print(f\"Cannot find Doc #{doc_id}: {e}\")\n",
    "        return \"\""
   ]
  },
  {
   "cell_type": "markdown",
   "id": "4cee9de3",
   "metadata": {},
   "source": [
    "### Read Annotations"
   ]
  },
  {
   "cell_type": "code",
   "execution_count": 42,
   "id": "swedish-display",
   "metadata": {},
   "outputs": [],
   "source": [
    "total_number_pairs = 0\n",
    "label_count = [0] * len(labels)\n",
    "\n",
    "def read_annotations(tmp_cas, controlPairList = []):\n",
    "    global labels, sentence_first, annotation_with_news_title, annotation_title_separator, annotation_with_timestamp, annotation_timestamp_separator\n",
    "    origin = []\n",
    "    target = []\n",
    "    label = []\n",
    "    for sentence in tmp_cas.select('webanno.custom.Sentence'):\n",
    "        for token in tmp_cas.select_covered('webanno.custom.SentenceRelation', sentence):\n",
    "            # Only use annotated data\n",
    "            if token.label != \"unset\":\n",
    "                # Check for redundant pairs\n",
    "                uid = f\"g{token.Governor.sent_id}_d_{token.Dependent.sent_id}\"\n",
    "                if uid not in controlPairList:\n",
    "                    origin_string = \"\"\n",
    "                    target_string = \"\"\n",
    "                    label.append(index_of_label(token.label))\n",
    "                    # Also add meta data: title (at first position)\n",
    "                    if annotation_with_news_title and not sentence_first:\n",
    "                        origin_string += token.Governor.title + annotation_title_separator\n",
    "                        target_string += token.Dependent.title + annotation_title_separator\n",
    "                    # Add Sentences \n",
    "                    origin_string += token.Governor.get_covered_text()\n",
    "                    target_string += token.Dependent.get_covered_text()\n",
    "                    # Also add meta data: title (at second position)\n",
    "                    if annotation_with_news_title and sentence_first:\n",
    "                        origin_string +=  \" \" + token.Governor.title + annotation_title_separator\n",
    "                        target_string += \" \" + token.Dependent.title + annotation_title_separator\n",
    "                    # Also add meta data: timestamp\n",
    "                    if annotation_with_timestamp:\n",
    "                        origin_string += annotation_timestamp_separator + get_timestamp_from_doc(token.Governor.doc_id)\n",
    "                        target_string += annotation_timestamp_separator + get_timestamp_from_doc(token.Dependent.doc_id)\n",
    "                    # Add String to list\n",
    "                    origin.append(origin_string)\n",
    "                    target.append(target_string)\n",
    "                    controlPairList.append(uid)\n",
    "                    #print('Dependent: ' + token.Dependent.get_*covered_text())\n",
    "                    #print('Governor: ' + token.Governor.get_covered_text())\n",
    "                    #print('Label: ' + token.label)\n",
    "                    #print('')\n",
    "    return origin, target, label, controlPairList\n"
   ]
  },
  {
   "cell_type": "markdown",
   "id": "expanded-flash",
   "metadata": {},
   "source": [
    "## Combine CAS Systems"
   ]
  },
  {
   "cell_type": "code",
   "execution_count": 43,
   "id": "packed-proposal",
   "metadata": {},
   "outputs": [],
   "source": [
    "def combined_cas_read(cas_list):\n",
    "    global pair_matching_count, cas_types\n",
    "    origin = []\n",
    "    target = []\n",
    "    label = []\n",
    "    count = 0\n",
    "    # control list of pairs to not add redundant pairs\n",
    "    controlPairList = []\n",
    "    for cas in cas_list:\n",
    "        origin_tmp, target_tmp, label_tmp, controlPairList_tmp = read_annotations(cas, controlPairList)\n",
    "        \n",
    "        # Count Statistics\n",
    "        pair_matching_count[cas_types[count]] += len(label_tmp)\n",
    "        \n",
    "        origin += origin_tmp\n",
    "        target += target_tmp\n",
    "        label += label_tmp\n",
    "        controlPairList += controlPairList_tmp\n",
    "        count += 1\n",
    "    return origin, target, label\n",
    "\n",
    "origin, target, label = combined_cas_read(cas)\n",
    "total_number_pairs = len(label)\n"
   ]
  },
  {
   "cell_type": "markdown",
   "id": "raising-cholesterol",
   "metadata": {},
   "source": [
    "## Split / K-Fold"
   ]
  },
  {
   "cell_type": "markdown",
   "id": "d5488bc8",
   "metadata": {},
   "source": [
    "### Set Random Seeds for reproducability"
   ]
  },
  {
   "cell_type": "code",
   "execution_count": 44,
   "id": "9bff97e1",
   "metadata": {},
   "outputs": [],
   "source": [
    "def set_seed(seed_number: int):\n",
    "    global seed\n",
    "    seed = seed_number\n",
    "    np.random.seed(seed_number)\n",
    "    torch.manual_seed(seed_number)\n",
    "    torch.cuda.manual_seed_all(seed_number)\n",
    "\n",
    "set_seed(122)"
   ]
  },
  {
   "cell_type": "markdown",
   "id": "19f505b4",
   "metadata": {},
   "source": [
    "### k-Fold Split with same distribution"
   ]
  },
  {
   "cell_type": "code",
   "execution_count": 45,
   "id": "1a0ffca3",
   "metadata": {},
   "outputs": [],
   "source": [
    "from sklearn.model_selection import StratifiedKFold, train_test_split\n",
    "\n",
    "# o: origin, t: target, l: label list\n",
    "def k_fold_train_test_split(o, t, l, random_state=None):\n",
    "    global num_folds\n",
    "    skf = StratifiedKFold(n_splits=num_folds, shuffle=True, random_state=random_state)\n",
    "    # Empty dataset (not needed)\n",
    "    empty_X = np.zeros(len(l))\n",
    "    skf.get_n_splits(empty_X, l)\n",
    "    origin_array = np.array(o)\n",
    "    target_array = np.array(t)\n",
    "    label_array = np.array(l)\n",
    "    # Store all k-folds\n",
    "    k_fold_origin = []\n",
    "    k_fold_target = []\n",
    "    k_fold_labels = []\n",
    "    for train_index, test_index in skf.split(empty_X, l):\n",
    "        #print(\"TRAIN:\", train_index, \"TEST:\", test_index)\n",
    "        train_origin, test_origin = origin_array[train_index], origin_array[test_index]\n",
    "        train_target, test_target = target_array[train_index], target_array[test_index]\n",
    "        train_labels, test_labels = label_array[train_index], label_array[test_index]\n",
    "        k_fold_origin.append([train_origin.tolist(), test_origin.tolist()])\n",
    "        k_fold_target.append([train_target.tolist(), test_target.tolist()])\n",
    "        k_fold_labels.append([train_labels.tolist(), test_labels.tolist()])\n",
    "    return k_fold_origin, k_fold_target, k_fold_labels\n",
    "\n",
    "k_fold_origin, k_fold_target, k_fold_labels = k_fold_train_test_split(origin, target, label,random_state=seed)"
   ]
  },
  {
   "cell_type": "markdown",
   "id": "5cf32517",
   "metadata": {},
   "source": [
    "## Print Examples"
   ]
  },
  {
   "cell_type": "code",
   "execution_count": 46,
   "id": "bbe4fd48",
   "metadata": {},
   "outputs": [],
   "source": [
    "def show_random_elements(origin_list, target_list, label_list, num_examples=10):\n",
    "    global labels\n",
    "    assert num_examples <= len(origin_list), \"Can't pick more elements than there are in the dataset.\"\n",
    "    picks = []\n",
    "    for _ in range(num_examples):\n",
    "        pick = random.randint(0, len(origin_list)-1)\n",
    "        while pick in picks:\n",
    "            pick = random.randint(0, len(origin_list)-1)\n",
    "        picks.append(pick)\n",
    "    data = []\n",
    "    for n in picks:\n",
    "        data.append([n, origin_list[n], labels[label_list[n]], target_list[n]])\n",
    "    df = pd.DataFrame(data, columns=['index', 'Origin', 'Label', 'Target'])\n",
    "    display(HTML(df.to_html()))"
   ]
  },
  {
   "cell_type": "code",
   "execution_count": 47,
   "id": "3cb93df6",
   "metadata": {},
   "outputs": [
    {
     "data": {
      "text/html": [
       "<table border=\"1\" class=\"dataframe\">\n",
       "  <thead>\n",
       "    <tr style=\"text-align: right;\">\n",
       "      <th></th>\n",
       "      <th>index</th>\n",
       "      <th>Origin</th>\n",
       "      <th>Label</th>\n",
       "      <th>Target</th>\n",
       "    </tr>\n",
       "  </thead>\n",
       "  <tbody>\n",
       "    <tr>\n",
       "      <th>0</th>\n",
       "      <td>753</td>\n",
       "      <td>New leadership could prove to be the key to revitalizing the peace process in the Middle East, as both Israel and the United States had refused to work with Arafat. Palestinians to elect new president on January 9.  November 14, 2004</td>\n",
       "      <td>temporal</td>\n",
       "      <td>This morning, Hamas leaders announced that they had an outright majority in the 132-seat Palestinian Legislative Council. Hamas wins Palestinian election.  January 29, 2005</td>\n",
       "    </tr>\n",
       "    <tr>\n",
       "      <th>1</th>\n",
       "      <td>1539</td>\n",
       "      <td>But the pick also set off a firestorm of attacks from the Obama campaign who remarked that she was merely the mayor of a city with 9,000 people. Fear and loathing on the campaign trail, August 2008.  August 9, 2008</td>\n",
       "      <td>causal</td>\n",
       "      <td>Now, Barack Obama is polling at 49.0% and John McCain is polling at 44.1%, a 4.9% lead, according to the latest Day to Day Politics Poll Average. US presidential candidate Barack Obama's lead increases after Democratic National Convention.  September 1, 2008</td>\n",
       "    </tr>\n",
       "    <tr>\n",
       "      <th>2</th>\n",
       "      <td>2262</td>\n",
       "      <td>Recently, the United States announced a naval coalition to patrol the Persian Gulf which was joined by Australia, Bahrain, Saudi Arabia, the United Kingdom and the United Arab Emirates. Iran's President Rouhani tells foreign powers to leave Persian Gulf.  September 15, 2019</td>\n",
       "      <td>contrast</td>\n",
       "      <td>The Gulf Cooperation Council has called on its member nations - Kuwait, Qatar, Oman, Saudi Arabia, Bahrain and the United Arab Emirates, all home to U.S. forces in the region, to not take part in an attack on Iran. Israeli website reports speculation over U.S. attack on Iran in April.  March 30, 2007</td>\n",
       "    </tr>\n",
       "    <tr>\n",
       "      <th>3</th>\n",
       "      <td>1625</td>\n",
       "      <td>Representatives from McCain, Romney, and Giuliani's camp all say their man  South Carolina attracting Republican hopefuls.  August 18, 2006</td>\n",
       "      <td>none</td>\n",
       "      <td>In the documents Thompson was hired to aid us in discussions with the administration. Group claims Fred Thompson lobbied for abortion-rights, Thompson denies.  July 5, 2007</td>\n",
       "    </tr>\n",
       "    <tr>\n",
       "      <th>4</th>\n",
       "      <td>826</td>\n",
       "      <td>No one has claimed responsibility for the attack and no suspects have been arrested. Seven killed in gun attack on Sri Lankan cricket team.  March 3, 2009</td>\n",
       "      <td>none</td>\n",
       "      <td>Italy's Interior Minister, Ministry_of_Interior_(Italy)|Interior Ministry recording over 70,000 refugees arriving in Italy in the first half of 2016. Italy initiates €1.5million social media campaign to discourage migrants.  2016-08-10T23:55:05Z</td>\n",
       "    </tr>\n",
       "    <tr>\n",
       "      <th>5</th>\n",
       "      <td>2807</td>\n",
       "      <td>The Ugandan government has been fighting the Lord's Resistance Army since the 1980s, in a war that has caught up over 20,000 children, many becoming child soldiers or sex slaves for the LRA. Ugandan ceasefire takes effect.  August 5, 2006</td>\n",
       "      <td>none</td>\n",
       "      <td>The region of Darfur has been the center of civil strife for over two years, during which time tens of thousands of people in the black African population have been killed, and many more wounded or abused, by government-supported Arab militias. Sudan preemptively rejects Security Council resolution on war crimes extradition.  Monday March 28, 2005</td>\n",
       "    </tr>\n",
       "    <tr>\n",
       "      <th>6</th>\n",
       "      <td>413</td>\n",
       "      <td>Cheney met earlier in the day with Shimon Peres, the Israeli president. Cheney meets with Israeli and Palestinian leaders.  March 23, 2008</td>\n",
       "      <td>none</td>\n",
       "      <td>The Haaretz had initially reported that former prime minister Mahmoud Abbas was selected by the Fatah central committee as their candidate for president, but Abbas has denied this, saying, the matter is still being discussed. Palestinians to elect new president on January 9.  November 14, 2004</td>\n",
       "    </tr>\n",
       "    <tr>\n",
       "      <th>7</th>\n",
       "      <td>2219</td>\n",
       "      <td>He has written several books which deny the Holocaust and support the views of Adolf Hitler. Students protest Holocaust denier's appearance at Oxford debate.  November 27, 2007</td>\n",
       "      <td>none</td>\n",
       "      <td>If however, the Arab Institute for Holocaust Research and Education is, as noted on its Web site, ideologically grounded in the belief that it was the Palestinian people who paid the price for European guilt over the Holocaust by imposing what they believe is an illegitimate Jewish state in the heart of the Arab world then the institute will merely propagate the classic anti-Israel use of the Holocaust and promote anti-Semitism. Muslim opens first Arab Holocaust museum in Nazareth.  May 6, 2005</td>\n",
       "    </tr>\n",
       "    <tr>\n",
       "      <th>8</th>\n",
       "      <td>1750</td>\n",
       "      <td>Many Pakistanis took to the streets Saturday to demonstrate against the U.S. air strike of a village on the border of Afghanistan. Protests erupt in Pakistan over US air strike.  January 14, 2006</td>\n",
       "      <td>causal</td>\n",
       "      <td>The attack took place on the outskirts of Dara Adamkhel, a town which is close to the border with Afghanistan. At least 40 killed by bombing in Pakistan.  March 2, 2008</td>\n",
       "    </tr>\n",
       "    <tr>\n",
       "      <th>9</th>\n",
       "      <td>1914</td>\n",
       "      <td>150px South Africa defeated Fiji 37-20 to advance to the semi-final stage of the 2007 Rugby World Cup in their quarter-final match at the Stade Vélodrome, Marseille, France. 2007 Rugby World Cup: South Africa 37 - 20 Fiji.  October 7, 2007</td>\n",
       "      <td>temporal</td>\n",
       "      <td>Defending champions England have defeated hosts France 14 - 9 in the first semi-final of the 2007 Rugby World Cup at the Stade de France, Saint-Denis. 2007 Rugby World Cup: England 14 - 9 France.  October 7, 2007</td>\n",
       "    </tr>\n",
       "  </tbody>\n",
       "</table>"
      ],
      "text/plain": [
       "<IPython.core.display.HTML object>"
      ]
     },
     "metadata": {},
     "output_type": "display_data"
    }
   ],
   "source": [
    "show_random_elements(k_fold_origin[0][0], k_fold_target[0][0], k_fold_labels[0][0])"
   ]
  },
  {
   "cell_type": "markdown",
   "id": "4232411d",
   "metadata": {},
   "source": [
    "## Print Statistics"
   ]
  },
  {
   "cell_type": "code",
   "execution_count": 48,
   "id": "09ef776e",
   "metadata": {},
   "outputs": [],
   "source": [
    "distribution_count = [0] * len(labels)\n",
    "def get_label_statistics(label_list):\n",
    "    global labels, distribution_count\n",
    "    count = [0] * len(labels)\n",
    "    total = 0\n",
    "    # total numbers\n",
    "    for l in label_list:\n",
    "        total = total + 1\n",
    "        count[l] = count[l] + 1\n",
    "        distribution_count[l] += 1\n",
    "    # display percentages\n",
    "    if total > 0:\n",
    "        for i in range(len(count)):\n",
    "            count[i] = str(count[i]) + \" (\" + str(round(count[i] * 100 / total, 2)) + \"%)\"\n",
    "    return count\n",
    "\n"
   ]
  },
  {
   "cell_type": "markdown",
   "id": "67a7c176",
   "metadata": {},
   "source": [
    "### Number of Pairs & Matchings"
   ]
  },
  {
   "cell_type": "code",
   "execution_count": 49,
   "id": "6a112baa",
   "metadata": {},
   "outputs": [
    {
     "data": {
      "text/html": [
       "<div>\n",
       "<style scoped>\n",
       "    .dataframe tbody tr th:only-of-type {\n",
       "        vertical-align: middle;\n",
       "    }\n",
       "\n",
       "    .dataframe tbody tr th {\n",
       "        vertical-align: top;\n",
       "    }\n",
       "\n",
       "    .dataframe thead th {\n",
       "        text-align: right;\n",
       "    }\n",
       "</style>\n",
       "<table border=\"1\" class=\"dataframe\">\n",
       "  <thead>\n",
       "    <tr style=\"text-align: right;\">\n",
       "      <th></th>\n",
       "      <th>Random</th>\n",
       "      <th>NSP</th>\n",
       "      <th>Similarity</th>\n",
       "      <th>Total</th>\n",
       "    </tr>\n",
       "  </thead>\n",
       "  <tbody>\n",
       "    <tr>\n",
       "      <th>0</th>\n",
       "      <td>1232</td>\n",
       "      <td>1058</td>\n",
       "      <td>2712</td>\n",
       "      <td>5002</td>\n",
       "    </tr>\n",
       "  </tbody>\n",
       "</table>\n",
       "</div>"
      ],
      "text/plain": [
       "   Random   NSP  Similarity  Total\n",
       "0    1232  1058        2712   5002"
      ]
     },
     "metadata": {},
     "output_type": "display_data"
    }
   ],
   "source": [
    "pair_matching_count.append(total_number_pairs)\n",
    "df_matching = pd.DataFrame([pair_matching_count], columns=pair_matching_types + [\"Total\"])\n",
    "display(df_matching)"
   ]
  },
  {
   "cell_type": "code",
   "execution_count": 50,
   "id": "06a4975e",
   "metadata": {},
   "outputs": [
    {
     "data": {
      "image/png": "[encoded data removed]",
      "text/plain": [
       "<Figure size 432x288 with 1 Axes>"
      ]
     },
     "metadata": {},
     "output_type": "display_data"
    }
   ],
   "source": [
    "plt.pie(np.array(pair_matching_count[:-1]), labels = pair_matching_types)\n",
    "plt.savefig(f'{export_path}pairs_matching.svg',bbox_inches='tight')\n",
    "plt.show() "
   ]
  },
  {
   "cell_type": "markdown",
   "id": "9a746990",
   "metadata": {},
   "source": [
    "### Label Distribution"
   ]
  },
  {
   "cell_type": "code",
   "execution_count": 51,
   "id": "c8576e16",
   "metadata": {},
   "outputs": [
    {
     "data": {
      "text/html": [
       "<div>\n",
       "<style scoped>\n",
       "    .dataframe tbody tr th:only-of-type {\n",
       "        vertical-align: middle;\n",
       "    }\n",
       "\n",
       "    .dataframe tbody tr th {\n",
       "        vertical-align: top;\n",
       "    }\n",
       "\n",
       "    .dataframe thead th {\n",
       "        text-align: right;\n",
       "    }\n",
       "</style>\n",
       "<table border=\"1\" class=\"dataframe\">\n",
       "  <thead>\n",
       "    <tr style=\"text-align: right;\">\n",
       "      <th></th>\n",
       "      <th>none</th>\n",
       "      <th>attribution</th>\n",
       "      <th>causal</th>\n",
       "      <th>conditional</th>\n",
       "      <th>contrast</th>\n",
       "      <th>description</th>\n",
       "      <th>equivalence</th>\n",
       "      <th>fulfillment</th>\n",
       "      <th>identity</th>\n",
       "      <th>purpose</th>\n",
       "      <th>summary</th>\n",
       "      <th>temporal</th>\n",
       "    </tr>\n",
       "  </thead>\n",
       "  <tbody>\n",
       "    <tr>\n",
       "      <th>0</th>\n",
       "      <td>3172 (63.41%)</td>\n",
       "      <td>23 (0.46%)</td>\n",
       "      <td>434 (8.68%)</td>\n",
       "      <td>56 (1.12%)</td>\n",
       "      <td>165 (3.3%)</td>\n",
       "      <td>53 (1.06%)</td>\n",
       "      <td>340 (6.8%)</td>\n",
       "      <td>43 (0.86%)</td>\n",
       "      <td>80 (1.6%)</td>\n",
       "      <td>22 (0.44%)</td>\n",
       "      <td>24 (0.48%)</td>\n",
       "      <td>590 (11.8%)</td>\n",
       "    </tr>\n",
       "  </tbody>\n",
       "</table>\n",
       "</div>"
      ],
      "text/plain": [
       "            none attribution       causal conditional    contrast description  \\\n",
       "0  3172 (63.41%)  23 (0.46%)  434 (8.68%)  56 (1.12%)  165 (3.3%)  53 (1.06%)   \n",
       "\n",
       "  equivalence fulfillment   identity     purpose     summary     temporal  \n",
       "0  340 (6.8%)  43 (0.86%)  80 (1.6%)  22 (0.44%)  24 (0.48%)  590 (11.8%)  "
      ]
     },
     "metadata": {},
     "output_type": "display_data"
    }
   ],
   "source": [
    "df_distribution = pd.DataFrame([get_label_statistics(label)], columns=labels)\n",
    "display(df_distribution)\n"
   ]
  },
  {
   "cell_type": "code",
   "execution_count": 52,
   "id": "73bf1131",
   "metadata": {},
   "outputs": [
    {
     "data": {
      "image/png": "[encoded data removed]",
      "text/plain": [
       "<Figure size 432x288 with 1 Axes>"
      ]
     },
     "metadata": {},
     "output_type": "display_data"
    }
   ],
   "source": [
    "myexplode = [0] * len(labels)\n",
    "myexplode[0] = 0.2\n",
    "patches, texts = plt.pie(np.array(distribution_count), explode = myexplode)\n",
    "# Sort Labels\n",
    "patches, labels, dummy =  zip(*sorted(zip(patches, labels, np.array(distribution_count)),key=lambda x: x[2],reverse=True))\n",
    "plt.legend(patches, labels, loc='center left', bbox_to_anchor=(1., 0.5),fontsize=8)\n",
    "plt.savefig(f'{export_path}pairs_distribution.svg',bbox_inches='tight')\n",
    "plt.show() "
   ]
  },
  {
   "cell_type": "markdown",
   "id": "a85c150a",
   "metadata": {},
   "source": [
    "# Write Folds to disk"
   ]
  },
  {
   "cell_type": "code",
   "execution_count": 53,
   "id": "3c6581c5",
   "metadata": {},
   "outputs": [],
   "source": [
    "def create_df(origin, target, label):\n",
    "    return pd.DataFrame(list(zip(origin, target, label)), columns=['origin', 'target', 'label'])\n",
    "\n",
    "def export_dfs(k_fold_origin, k_fold_target, k_fold_labels):\n",
    "    global export_path\n",
    "    for i in range(len(k_fold_origin)):\n",
    "        train_df = create_df(k_fold_origin[i][0], k_fold_target[i][0], k_fold_labels[i][0])\n",
    "        test_df = create_df(k_fold_origin[i][1], k_fold_target[i][1], k_fold_labels[i][1])\n",
    "        train_df.to_csv(f'{export_path}train.{i}.csv', index=False)\n",
    "        test_df.to_csv(f'{export_path}test.{i}.csv', index=False)"
   ]
  },
  {
   "cell_type": "code",
   "execution_count": 54,
   "id": "c449e8fd",
   "metadata": {},
   "outputs": [],
   "source": [
    "export_dfs(k_fold_origin, k_fold_target, k_fold_labels)"
   ]
  },
  {
   "cell_type": "code",
   "execution_count": null,
   "id": "3f020e15",
   "metadata": {},
   "outputs": [],
   "source": []
  }
 ],
 "metadata": {
  "kernelspec": {
   "display_name": "Python 3",
   "language": "python",
   "name": "python3"
  },
  "language_info": {
   "codemirror_mode": {
    "name": "ipython",
    "version": 3
   },
   "file_extension": ".py",
   "mimetype": "text/x-python",
   "name": "python",
   "nbconvert_exporter": "python",
   "pygments_lexer": "ipython3",
   "version": "3.9.5"
  }
 },
 "nbformat": 4,
 "nbformat_minor": 5
}
